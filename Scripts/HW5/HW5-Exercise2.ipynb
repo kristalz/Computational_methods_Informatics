{
 "cells": [
  {
   "cell_type": "code",
   "execution_count": 2,
   "metadata": {},
   "outputs": [],
   "source": [
    "class Tree:   \n",
    "    def __init__(self, value=None):\n",
    "        self.value = value\n",
    "        self.left = None # left child\n",
    "        self.right = None # right child\n",
    "    # add method\n",
    "    def add(self,value):\n",
    "        if self.value:\n",
    "            if value < self.value:\n",
    "                if self.left is None:\n",
    "                    self.left = Tree(value)\n",
    "                else:\n",
    "                    self.left.add(value)\n",
    "            elif value > self.value:\n",
    "                if self.right is None:\n",
    "                    self.right = Tree(value)\n",
    "                else:\n",
    "                    self.right.add(value)\n",
    "        else:\n",
    "            self.value = value \n",
    "    # __contains__ method\n",
    "    def __contains__(self, item):\n",
    "        if self.value == item:\n",
    "            return True\n",
    "        if item < self.value and self.left:\n",
    "            return item in self.left\n",
    "        elif item > self.value and self.right:\n",
    "            return item in self.right\n",
    "        else:\n",
    "            return False "
   ]
  },
  {
   "cell_type": "code",
   "execution_count": 3,
   "metadata": {},
   "outputs": [],
   "source": [
    "my_tree = Tree()\n",
    "for item in [55, 62, 37, 49, 71, 14, 17]:\n",
    "    my_tree.add(item)"
   ]
  },
  {
   "cell_type": "code",
   "execution_count": 4,
   "metadata": {},
   "outputs": [
    {
     "name": "stdout",
     "output_type": "stream",
     "text": [
      "my_tree.__contains__(55) = True\n"
     ]
    }
   ],
   "source": [
    "print(f'my_tree.__contains__(55) = ' f'{55 in my_tree}')"
   ]
  },
  {
   "cell_type": "code",
   "execution_count": 5,
   "metadata": {},
   "outputs": [
    {
     "name": "stdout",
     "output_type": "stream",
     "text": [
      "my_tree.__contains__(42) = False\n"
     ]
    }
   ],
   "source": [
    "print(f'my_tree.__contains__(42) = ' f'{42 in my_tree}')"
   ]
  },
  {
   "cell_type": "markdown",
   "metadata": {},
   "source": [
    "Using various sizes n of trees (populated with random data) and sufficiently many calls to in (each individual call should be very fast, so you may have to run many repeated tests), demonstrate that in is executing in O(log n) times; on a log-log plot, for sufficiently large n, the graph of time required for checking if a number is in the tree as a function of n should be almost horizontal. (5 points).\n",
    "\n",
    "This speed is not free. Provide supporting evidence that the time to setup the tree is O(n log n) by timing it for various sized ns and showing that the runtime lies between a curve that is O(n) and one that is O(n**2). (5 points)\n",
    "\n",
    "Note: the tree searches are not guaranteed to be able to run in exactly O(log n) time because the tree might not be balanced, but as long as n is large enough and your numbers are generated randomly, you can expect the tree to be nearly balanced."
   ]
  },
  {
   "cell_type": "code",
   "execution_count": 9,
   "metadata": {},
   "outputs": [
    {
     "name": "stdout",
     "output_type": "stream",
     "text": [
      "n=1\n",
      "n=10\n",
      "n=100\n",
      "n=1000\n",
      "n=10000\n",
      "n=100000\n",
      "n=1000000\n",
      "runtime = [2.2999884095042944e-06, 2.4999899324029684e-06, 1.2099990271963179e-05, 2.5200002710334957e-05, 2.1500003640539944e-05, 2.139998832717538e-05, 2.1100000594742596e-05]\n"
     ]
    },
    {
     "data": {
      "image/png": "[encoded data removed]",
      "text/plain": [
       "<Figure size 432x288 with 1 Axes>"
      ]
     },
     "metadata": {
      "needs_background": "light"
     },
     "output_type": "display_data"
    }
   ],
   "source": [
    "import random\n",
    "import time\n",
    "import matplotlib.pyplot as plt\n",
    "import numpy as np\n",
    "\n",
    "random.seed(1)\n",
    "\n",
    "def timeit(n):\n",
    "    times = []\n",
    "    print(f\"n={n}\")\n",
    "    n = [random.randint(1,n) for _ in range(n)]\n",
    "    my_tree = Tree()\n",
    "    for item in n:\n",
    "        my_tree.add(item)\n",
    "    for attemp in [i for i in range(1000)]:\n",
    "        start = time.perf_counter()\n",
    "        for num in [j for j in range(1,100,10)]:\n",
    "            num in my_tree\n",
    "        end = np.average((time.perf_counter() - start))\n",
    "        times.append(end)\n",
    "    return min(times)\n",
    "\n",
    "ns = [1,10,100,1000,1e4,1e5,1e6]\n",
    "runtime = [timeit(int(n))for n in ns]\n",
    "\n",
    "plt.plot(ns, runtime)\n",
    "print(f\"runtime = {runtime}\")\n",
    "plt.ylabel('Runtime')\n",
    "plt.xlabel('ns')\n",
    "plt.xscale(\"log\")\n",
    "plt.yscale(\"log\")\n",
    "plt.show()"
   ]
  },
  {
   "cell_type": "code",
   "execution_count": 11,
   "metadata": {},
   "outputs": [
    {
     "name": "stdout",
     "output_type": "stream",
     "text": [
      "runtime = [3.9998849388211966e-07, 0.00010269999620504677, 0.001921500006574206, 0.028227699993294664, 0.4591989000036847]\n"
     ]
    },
    {
     "data": {
      "image/png": "[encoded data removed]",
      "text/plain": [
       "<Figure size 432x288 with 1 Axes>"
      ]
     },
     "metadata": {
      "needs_background": "light"
     },
     "output_type": "display_data"
    }
   ],
   "source": [
    "random.seed(1)\n",
    "\n",
    "def timeit(n):\n",
    "    times = []\n",
    "    n = [random.randint(1,n) for _ in range(n)]\n",
    "    for attemp in [i for i in range(100)]:\n",
    "        start = time.perf_counter()\n",
    "        my_tree = Tree()\n",
    "        for item in n: \n",
    "            my_tree.add(item)\n",
    "        times.append(time.perf_counter() - start)\n",
    "    return min(times) \n",
    "\n",
    "ns = [1,100,1000,1e4,1e5]\n",
    "actual_runtime = [timeit(int(n)) for n in ns]\n",
    "scale = actual_runtime[0]\n",
    "quadratic = [scale * n**2 for n in ns]\n",
    "linear = [scale * n for n in ns]\n",
    "\n",
    "plt.plot(ns, actual_runtime)\n",
    "print(f\"runtime = {actual_runtime}\")\n",
    "plt.plot(ns, quadratic)\n",
    "plt.plot(ns, linear)\n",
    "plt.ylabel('Runtime')\n",
    "plt.xlabel('ns')\n",
    "plt.xscale(\"log\")\n",
    "plt.yscale(\"log\")\n",
    "plt.legend(['actual_runtime','quadratic','linear'],loc='upper left')\n",
    "plt.show()"
   ]
  }
 ],
 "metadata": {
  "interpreter": {
   "hash": "4ab75fa6c139a19b98c35d1d0b7c2c39c8e12c5863323b968d180b6d054e00a1"
  },
  "kernelspec": {
   "display_name": "Python 3.9.2 64-bit",
   "language": "python",
   "name": "python3"
  },
  "language_info": {
   "codemirror_mode": {
    "name": "ipython",
    "version": 3
   },
   "file_extension": ".py",
   "mimetype": "text/x-python",
   "name": "python",
   "nbconvert_exporter": "python",
   "pygments_lexer": "ipython3",
   "version": "3.9.2"
  },
  "orig_nbformat": 4
 },
 "nbformat": 4,
 "nbformat_minor": 2
}
