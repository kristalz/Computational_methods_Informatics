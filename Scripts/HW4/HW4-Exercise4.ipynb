{
 "cells": [
  {
   "cell_type": "code",
   "execution_count": 11,
   "metadata": {},
   "outputs": [],
   "source": [
    "import numpy as np\n",
    "from enum import IntEnum\n",
    "\n",
    "# Assign the default scores\n",
    "match=1\n",
    "gap_penalty=1\n",
    "mismatch_penalty=1\n",
    "\n",
    "# Assign the constant values for the traceback\n",
    "class Trace(IntEnum): # reference: https://www.geeksforgeeks.org/enum-intenum-in-python/\n",
    "    STOP = 0\n",
    "    LEFT = 1 \n",
    "    UP = 2\n",
    "    DIAG = 3\n",
    "\n",
    "# Create a Smith-Waterman local alignment algorithm function with match=1, gap_penalty=1, mismatch_penalty=1 \n",
    "def align(seq1, seq2):\n",
    "    row = len(seq1) + 1\n",
    "    col = len(seq2) + 1\n",
    "    # Create empty matrice M for storing scores and tracing matrix s for optimal local alignment\n",
    "    M = np.zeros(shape=(row, col), dtype=int)  \n",
    "    s = np.zeros(shape=(row, col), dtype=int)  \n",
    "    \n",
    "    # Initialize the variables to find the highest score and the location\n",
    "    max_score = 0\n",
    "    max_index = (0, 0)\n",
    "    \n",
    "    # Calculate the scores for all cells in M\n",
    "    for i in range(1, row):\n",
    "        for j in range(1, col):\n",
    "            # Calculate the diagonal score (match score)\n",
    "            match_value = match if seq1[i - 1] == seq2[j - 1] else - mismatch_penalty\n",
    "            diagonal_score = M[i - 1, j - 1] + match_value\n",
    "            \n",
    "            # Calculate the up gap score\n",
    "            up_score = M[i - 1, j] - gap_penalty\n",
    "            \n",
    "            # Calculate the left gap score\n",
    "            left_score = M[i, j - 1] - gap_penalty\n",
    "            \n",
    "            # Take the highest score \n",
    "            M[i, j] = max(diagonal_score, up_score, left_score, 0)\n",
    "            \n",
    "            # Trace where the cell's value is coming from and assign numeric values\n",
    "            if M[i, j] == 0: \n",
    "                s[i, j] = Trace.STOP # assign StOP if the score is 0\n",
    "            # Assign LEFT if the score is the left_score \n",
    "            elif M[i, j] == left_score: \n",
    "                s[i, j] = Trace.LEFT\n",
    "            # Assign UP if the score is the up_score    \n",
    "            elif M[i, j] == up_score: \n",
    "                s[i, j] = Trace.UP\n",
    "            # Assign DIAG if the score is the diagonal_score   \n",
    "            elif M[i, j] == diagonal_score: \n",
    "                s[i, j] = Trace.DIAG\n",
    "                \n",
    "            # Trace the cell with the maximum score\n",
    "            if M[i, j] >= max_score:\n",
    "                max_index = (i,j)\n",
    "                max_score = M[i, j]\n",
    "    \n",
    "    # Initialize the variables for tracing the optimal local alignment\n",
    "    aligned_seq1 = \"\"\n",
    "    aligned_seq2 = \"\"   \n",
    "    current_aligned_seq1 = \"\"   \n",
    "    current_aligned_seq2 = \"\"  \n",
    "    max_i = max_index[0]\n",
    "    max_j = max_index[1]\n",
    "    \n",
    "    # Trace the pathway of the local alignment\n",
    "    while s[max_i, max_j] != Trace.STOP: \n",
    "        if s[max_i, max_j] == Trace.DIAG:\n",
    "            current_aligned_seq1 = seq1[max_i - 1]\n",
    "            current_aligned_seq2 = seq2[max_j - 1]\n",
    "            max_i -=1\n",
    "            max_j -=1\n",
    "            \n",
    "        elif s[max_i, max_j] == Trace.UP:\n",
    "            current_aligned_seq1 = seq1[max_i - 1]\n",
    "            current_aligned_seq2 = '-'\n",
    "            max_i -=1    \n",
    "            \n",
    "        elif s[max_i, max_j] == Trace.LEFT:\n",
    "            current_aligned_seq1 = '-'\n",
    "            current_aligned_seq2 = seq2[max_j - 1]\n",
    "            max_j -=1\n",
    "            \n",
    "        aligned_seq1 = aligned_seq1 + current_aligned_seq1\n",
    "        aligned_seq2 = aligned_seq2 + current_aligned_seq2\n",
    "    \n",
    "    # Reverse the order of the aligned sequences\n",
    "    aligned_seq1 = aligned_seq1[::-1]\n",
    "    aligned_seq2 = aligned_seq2[::-1]\n",
    "    \n",
    "    return aligned_seq1, aligned_seq2, max_score"
   ]
  },
  {
   "cell_type": "code",
   "execution_count": 12,
   "metadata": {},
   "outputs": [
    {
     "name": "stdout",
     "output_type": "stream",
     "text": [
      "agacccta-cgt-gac\n",
      "agacc-tagcatcgac\n",
      "8\n"
     ]
    }
   ],
   "source": [
    "# Test 1\n",
    "seq1, seq2, score, M = align('tgcatcgagaccctacgtgac', 'actagacctagcatcgac')\n",
    "print(seq1)\n",
    "print(seq2)\n",
    "print(score)"
   ]
  },
  {
   "cell_type": "markdown",
   "metadata": {},
   "source": [
    "This is one of the possibility: \n",
    "\n",
    "agacccta-cgt-gac\n",
    "agacc-tagcatcgac\n",
    "8"
   ]
  },
  {
   "cell_type": "code",
   "execution_count": 20,
   "metadata": {},
   "outputs": [
    {
     "name": "stdout",
     "output_type": "stream",
     "text": [
      "agaactac\n",
      "agacctac\n",
      "6\n"
     ]
    }
   ],
   "source": [
    "# Test 2\n",
    "seq1, seq2, score, M = align('tggtcgagaactacgtgac', 'actagacctaccatcggc')\n",
    "print(seq1)\n",
    "print(seq2)\n",
    "print(score)"
   ]
  },
  {
   "cell_type": "markdown",
   "metadata": {},
   "source": [
    "There is only one possibility:\n",
    "\n",
    "agaactac\n",
    "agacctac\n",
    "6"
   ]
  },
  {
   "cell_type": "code",
   "execution_count": 15,
   "metadata": {},
   "outputs": [
    {
     "name": "stdout",
     "output_type": "stream",
     "text": [
      "agaactacgtgac\n",
      "agtac-acct-ac\n",
      "5\n"
     ]
    }
   ],
   "source": [
    "# Test 3\n",
    "seq1, seq2, score, M = align('gtctcgagaactacgtgac', 'agtacacctaccatcggc')\n",
    "print(seq1)\n",
    "print(seq2)\n",
    "print(score)"
   ]
  },
  {
   "cell_type": "markdown",
   "metadata": {},
   "source": [
    "This is one of the possibility: \n",
    "agaactacgtgac\n",
    "agtac-acct-ac\n",
    "5"
   ]
  },
  {
   "cell_type": "code",
   "execution_count": 16,
   "metadata": {},
   "outputs": [],
   "source": [
    "# Assign different gap_penalty score\n",
    "match=1\n",
    "mismatch_penalty=1\n",
    "\n",
    "# Create a Smith-Waterman local alignment algorithm function with match=1, gap_penalty=2, mismatch_penalty=1 \n",
    "def align(seq1, seq2, gap_penalty=2):\n",
    "\n",
    "    row = len(seq1) + 1\n",
    "    col = len(seq2) + 1\n",
    "    # Create empty matrice M for storing scores and tracing matrix s for optimal local alignment\n",
    "    M = np.zeros(shape=(row, col), dtype=int)  \n",
    "    s = np.zeros(shape=(row, col), dtype=int)  \n",
    "    \n",
    "    # Initialize the variables to find the highest score and the location\n",
    "    max_score = 0\n",
    "    max_index = (0, 0)\n",
    "    \n",
    "    # Calculate the scores for all cells in M\n",
    "    for i in range(1, row):\n",
    "        for j in range(1, col):\n",
    "            # calculate the diagonal score (match score)\n",
    "            match_value = match if seq1[i - 1] == seq2[j - 1] else - mismatch_penalty\n",
    "            diagonal_score = M[i - 1, j - 1] + match_value\n",
    "            \n",
    "            # calculate the up gap score\n",
    "            up_score = M[i - 1, j] - gap_penalty\n",
    "            \n",
    "            # calculate the left gap score\n",
    "            left_score = M[i, j - 1] - gap_penalty\n",
    "            \n",
    "            # take the highest score \n",
    "            M[i, j] = max(diagonal_score, up_score, left_score, 0)\n",
    "            \n",
    "            # trace where the cell's value is coming from    \n",
    "            if M[i, j] == 0: \n",
    "                s[i, j] = Trace.STOP # assign STOP if the score is 0\n",
    "            # assign LEFT if the score is the left_score \n",
    "            elif M[i, j] == left_score: \n",
    "                s[i, j] = Trace.LEFT\n",
    "            # assign UP if the score is the up_score    \n",
    "            elif M[i, j] == up_score: \n",
    "                s[i, j] = Trace.UP\n",
    "            # assign DIAG if the score is the diagonal_score   \n",
    "            elif M[i, j] == diagonal_score: \n",
    "                s[i, j] = Trace.DIAG\n",
    "            # trace the cell with the maximum score\n",
    "            if M[i, j] >= max_score:\n",
    "                max_index = (i,j)\n",
    "                max_score = M[i, j]\n",
    "    \n",
    "    # Initialize the variables for tracing the optimal local alignment\n",
    "    aligned_seq1 = \"\"\n",
    "    aligned_seq2 = \"\"   \n",
    "    current_aligned_seq1 = \"\"   \n",
    "    current_aligned_seq2 = \"\"  \n",
    "    max_i = max_index[0]\n",
    "    max_j = max_index[1]\n",
    "    \n",
    "    # Trace the pathway of the local alignment\n",
    "    while s[max_i, max_j] != Trace.STOP: \n",
    "        if s[max_i, max_j] == Trace.DIAG:\n",
    "            current_aligned_seq1 = seq1[max_i - 1]\n",
    "            current_aligned_seq2 = seq2[max_j - 1]\n",
    "            max_i -=1\n",
    "            max_j -=1\n",
    "            \n",
    "        elif s[max_i, max_j] == Trace.UP:\n",
    "            current_aligned_seq1 = seq1[max_i - 1]\n",
    "            current_aligned_seq2 = '-'\n",
    "            max_i -=1    \n",
    "            \n",
    "        elif s[max_i, max_j] == Trace.LEFT:\n",
    "            current_aligned_seq1 = '-'\n",
    "            current_aligned_seq2 = seq2[max_j - 1]\n",
    "            max_j -=1\n",
    "            \n",
    "        aligned_seq1 = aligned_seq1 + current_aligned_seq1\n",
    "        aligned_seq2 = aligned_seq2 + current_aligned_seq2\n",
    "    \n",
    "    # Reverse the order of the aligned sequences\n",
    "    aligned_seq1 = aligned_seq1[::-1]\n",
    "    aligned_seq2 = aligned_seq2[::-1]\n",
    "    \n",
    "    return aligned_seq1, aligned_seq2, max_score"
   ]
  },
  {
   "cell_type": "code",
   "execution_count": 17,
   "metadata": {},
   "outputs": [
    {
     "name": "stdout",
     "output_type": "stream",
     "text": [
      "gcatcga\n",
      "gcatcga\n",
      "7\n"
     ]
    }
   ],
   "source": [
    "# Test 1\n",
    "seq1, seq2, score, M = align('tgcatcgagaccctacgtgac', 'actagacctagcatcgac',gap_penalty=2)\n",
    "print(seq1)\n",
    "print(seq2) \n",
    "print(score)"
   ]
  },
  {
   "cell_type": "code",
   "execution_count": 21,
   "metadata": {},
   "outputs": [
    {
     "name": "stdout",
     "output_type": "stream",
     "text": [
      "agaactac\n",
      "agacctac\n",
      "6\n"
     ]
    }
   ],
   "source": [
    "# Test 2\n",
    "seq1, seq2, score, M = align('tggtcgagaactacgtgac', 'actagacctaccatcggc', gap_penalty=2)\n",
    "print(seq1)\n",
    "print(seq2)\n",
    "print(score)"
   ]
  },
  {
   "cell_type": "code",
   "execution_count": 22,
   "metadata": {},
   "outputs": [
    {
     "name": "stdout",
     "output_type": "stream",
     "text": [
      "ctac\n",
      "ctac\n",
      "4\n"
     ]
    }
   ],
   "source": [
    "# Test 3\n",
    "seq1, seq2, score, M = align('gtctcgagaactacgtgac', 'agtacacctaccatcggc', gap_penalty=2)\n",
    "print(seq1)\n",
    "print(seq2)\n",
    "print(score)"
   ]
  },
  {
   "cell_type": "code",
   "execution_count": 24,
   "metadata": {},
   "outputs": [
    {
     "name": "stdout",
     "output_type": "stream",
     "text": [
      "gcatcga\n",
      "gcatcga\n",
      "14\n"
     ]
    }
   ],
   "source": [
    "# Assign the different scores match = 2, mismatch_penalty = 2, gap_penalty = 3\n",
    "match=2\n",
    "mismatch_penalty=2\n",
    "\n",
    "# Test\n",
    "seq1, seq2, score, M = align('tgcatcgagaccctacgtgac', 'actagacctagcatcgac', gap_penalty=3)\n",
    "print(seq1)\n",
    "print(seq2)\n",
    "print(score)"
   ]
  },
  {
   "cell_type": "code",
   "execution_count": 26,
   "metadata": {},
   "outputs": [
    {
     "name": "stdout",
     "output_type": "stream",
     "text": [
      "agaactac\n",
      "acacctac\n",
      "10\n"
     ]
    }
   ],
   "source": [
    "# Assign the different scores match = 2, mismatch_penalty = 1, gap_penalty = 4\n",
    "match=2\n",
    "mismatch_penalty=1\n",
    "\n",
    "# Test\n",
    "seq1, seq2, score, M = align('gtctcgagaactacgtgac', 'agtacacctaccatcggc', gap_penalty=4)\n",
    "print(seq1)\n",
    "print(seq2)\n",
    "print(score)"
   ]
  }
 ],
 "metadata": {
  "interpreter": {
   "hash": "4ab75fa6c139a19b98c35d1d0b7c2c39c8e12c5863323b968d180b6d054e00a1"
  },
  "kernelspec": {
   "display_name": "Python 3.9.2 64-bit",
   "language": "python",
   "name": "python3"
  },
  "language_info": {
   "codemirror_mode": {
    "name": "ipython",
    "version": 3
   },
   "file_extension": ".py",
   "mimetype": "text/x-python",
   "name": "python",
   "nbconvert_exporter": "python",
   "pygments_lexer": "ipython3",
   "version": "3.9.2"
  },
  "orig_nbformat": 4
 },
 "nbformat": 4,
 "nbformat_minor": 2
}
