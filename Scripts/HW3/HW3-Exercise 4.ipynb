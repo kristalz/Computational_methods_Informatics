{
 "cells": [
  {
   "cell_type": "code",
   "execution_count": 1,
   "id": "7426bc3a",
   "metadata": {},
   "outputs": [],
   "source": [
    "import time\n",
    "\n",
    "def time_algorithm(algorithm, args):\n",
    "    times = []\n",
    "    for attemp in [1,2,3]:\n",
    "        start = time.perf_counter()\n",
    "        algorithm(*args)\n",
    "        times.append(time.perf_counter()-start)\n",
    "    return min(times)"
   ]
  },
  {
   "cell_type": "code",
   "execution_count": 2,
   "id": "0b6cf138",
   "metadata": {},
   "outputs": [],
   "source": [
    "import multiprocessing as mp\n",
    "\n",
    "def merge_sort(data,left,right):\n",
    "    '''This is a slighly modified version of the orginal mergeSort code in the slides'''\n",
    "\n",
    "    # If there is only one element in the list, return the list \n",
    "    if right-left<2:\n",
    "        return data[left:right]\n",
    "    # Split the list into half\n",
    "    split = (left+right)//2\n",
    "    # Iterate the left and right parts of the list\n",
    "    l = iter(merge_sort(data,left,split))\n",
    "    r = iter(merge_sort(data,split,right))\n",
    "    # Create an empty list to store the result after sorting\n",
    "    result = []\n",
    "    # Store variables for the first element in left and right sublists\n",
    "    value_l = next(l)\n",
    "    value_r = next(r)\n",
    "\n",
    "    while True:\n",
    "        # If the first element of the left sublist is smaller \n",
    "        if value_l < value_r:\n",
    "            # Put this element into the sorted result list\n",
    "            result.append(value_l)\n",
    "            try:\n",
    "                # Otherwise, compare the next element\n",
    "                value_l = next(l)\n",
    "            except StopIteration:\n",
    "                # If there are no elements left in the left sublist, append the right sublist to the sorted result list\n",
    "                return result + [value_r] + list(r)\n",
    "        else:\n",
    "            result.append(value_r)\n",
    "            try:\n",
    "                value_r = next(r)\n",
    "            except StopIteration:\n",
    "                # If there are no elements left in the right sublist, append the left sublist to the sorted result list\n",
    "                return result + [value_l]+  list(l)\n",
    "\n",
    "def merge_sort_worker(data,left,right,p):\n",
    "    '''Create a function for how two parallel workers communicate in the process'''\n",
    "    if right-left<2:\n",
    "        p.send(data[left:right]) # Send the result if there is only one element in the list\n",
    "        return\n",
    "\n",
    "    split = (left+right)//2\n",
    "\n",
    "    l = iter(merge_sort(data,left,split))\n",
    "    r = iter(merge_sort(data,split,right))\n",
    "\n",
    "    result = []\n",
    "    value_l = next(l)\n",
    "    value_r = next(r)\n",
    "\n",
    "    while True:\n",
    "        if value_l < value_r:\n",
    "            result.append(value_l)\n",
    "            try:\n",
    "                value_l = next(l)\n",
    "            except StopIteration:\n",
    "                # \n",
    "                p.send(result + [value_r] + list(r)) # Send the result of right sublists if nothing remains in the left\n",
    "                return\n",
    "        else:\n",
    "            result.append(value_r)\n",
    "            try:\n",
    "                value_r=next(r)\n",
    "            except StopIteration:\n",
    "                p.send(result + [value_l] + list(l)) # Send the result of left sublists if nothing remains in the right\n",
    "                return\n",
    "\n",
    "def merge_sort_parallel(data,left,right):\n",
    "    ''' Create a function to run the two parallel process'''\n",
    "    if right-left<2:\n",
    "        return data[left:right]\n",
    "\n",
    "    split = (left+right)//2\n",
    "\n",
    "    # Create two pipes of receivers and senders in p1, p2 processes\n",
    "    p1_pipe_r,p1_pipe_s = mp.Pipe()\n",
    "    p2_pipe_r,p2_pipe_s = mp.Pipe()\n",
    "\n",
    "    # Create two processes: p1 process the left part of the list; p2 process the right part of the list\n",
    "    p1 = mp.Process(target = merge_sort_worker,args=(data,left,split,p1_pipe_s))\n",
    "    p2 = mp.Process(target = merge_sort_worker,args=(data,split,right,p2_pipe_s))\n",
    "    # Start the two processes\n",
    "    p1.start() \n",
    "    p2.start()\n",
    "    l = iter(p1_pipe_r.recv())\n",
    "    r = iter(p2_pipe_r.recv())\n",
    "    # Join the two processes' results \n",
    "    p1.join()\n",
    "    p2.join()\n",
    "\n",
    "    result = []\n",
    "    value_l = next(l)\n",
    "    value_r = next(r)\n",
    "\n",
    "    while True:\n",
    "        if value_l<value_r:\n",
    "            result.append(value_l)\n",
    "            try:\n",
    "                value_l = next(l)\n",
    "            except StopIteration:\n",
    "                return result + [value_r] + list(r)\n",
    "        else:\n",
    "            result.append(value_r)\n",
    "            try:\n",
    "                value_r=next(r)\n",
    "            except StopIteration:\n",
    "                return result + [value_l] + list(l)"
   ]
  },
  {
   "cell_type": "code",
   "execution_count": 6,
   "id": "6794098d",
   "metadata": {},
   "outputs": [
    {
     "name": "stdout",
     "output_type": "stream",
     "text": [
      "[132.70190537093285, 138.3648745480729, 140.76116697164156, 143.21750366880315, 144.76057019327982, 145.4623484035526, 152.13960011344216, 158.50610977817166, 159.90629217048075, 163.39965590142563, 163.65976923510826, 169.45340285337033, 169.57323663467645, 170.66164895878202, 171.7760562919656, 171.9573991536012, 176.42788287993696, 177.4024948964072, 178.99564463724212, 184.91123869001987, 188.2236757293112, 194.14956646494218, 196.13372583412666, 200.2415865169108, 200.4644350153141, 202.1020187496404, 206.5244542594982, 206.92721687349982, 208.86840365908287, 209.1701072520559, 209.46867976159746, 221.51910428567862] [132.70190537093285, 138.3648745480729, 140.76116697164156, 143.21750366880315, 144.76057019327982, 145.4623484035526, 152.13960011344216, 158.50610977817166, 159.90629217048075, 163.39965590142563, 163.65976923510826, 169.45340285337033, 169.57323663467645, 170.66164895878202, 171.7760562919656, 171.9573991536012, 176.42788287993696, 177.4024948964072, 178.99564463724212, 184.91123869001987, 188.2236757293112, 194.14956646494218, 196.13372583412666, 200.2415865169108, 200.4644350153141, 202.1020187496404, 206.5244542594982, 206.92721687349982, 208.86840365908287, 209.1701072520559, 209.46867976159746, 221.51910428567862]\n"
     ]
    }
   ],
   "source": [
    "import random \n",
    "random.seed(1)\n",
    "weights = [random.normalvariate(170,30) for patient in range(2**23+1)]\n",
    "sizes = [2**i for i in range(23)]\n",
    "\n",
    "# Verify the results by executing single and parallel mergeSort functions \n",
    "if __name__ == \"__main__\":\n",
    "    single_result = [merge_sort(weights[:size],0,size)for size in sizes]\n",
    "    parallel_result = [merge_sort_parallel(weights[:size],0,size)for size in sizes]\n",
    "    print(single_result[5], parallel_result[5])"
   ]
  },
  {
   "cell_type": "code",
   "execution_count": 7,
   "id": "51e07fb4",
   "metadata": {},
   "outputs": [
    {
     "data": {
      "image/png": "[encoded data removed]",
      "text/plain": [
       "<Figure size 432x288 with 1 Axes>"
      ]
     },
     "metadata": {
      "needs_background": "light"
     },
     "output_type": "display_data"
    }
   ],
   "source": [
    "import matplotlib.pyplot as plt\n",
    "\n",
    "# Compare the runtime in two versions of merge_sort\n",
    "times_single = [time_algorithm(merge_sort,(weights[:size],0,size)) for size in sizes]\n",
    "times_parallel = [time_algorithm(merge_sort_parallel,(weights[:size],0,size)) for size in sizes]\n",
    "\n",
    "plt.plot(sizes, times_single)\n",
    "plt.plot(sizes, times_parallel)\n",
    "\n",
    "plt.ylabel('Runtime')\n",
    "plt.xlabel('Size')\n",
    "plt.xscale(\"log\")\n",
    "plt.yscale(\"linear\")\n",
    "plt.legend(['Single','Parallel'],loc='upper left')\n",
    "plt.show()"
   ]
  }
 ],
 "metadata": {
  "interpreter": {
   "hash": "4ab75fa6c139a19b98c35d1d0b7c2c39c8e12c5863323b968d180b6d054e00a1"
  },
  "kernelspec": {
   "display_name": "Python 3 (ipykernel)",
   "language": "python",
   "name": "python3"
  },
  "language_info": {
   "codemirror_mode": {
    "name": "ipython",
    "version": 3
   },
   "file_extension": ".py",
   "mimetype": "text/x-python",
   "name": "python",
   "nbconvert_exporter": "python",
   "pygments_lexer": "ipython3",
   "version": "3.8.3"
  }
 },
 "nbformat": 4,
 "nbformat_minor": 5
}
