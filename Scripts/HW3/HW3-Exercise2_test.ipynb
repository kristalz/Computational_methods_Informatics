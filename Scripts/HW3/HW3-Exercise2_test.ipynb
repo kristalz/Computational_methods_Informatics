{
 "cells": [
  {
   "cell_type": "code",
   "execution_count": 1,
   "metadata": {},
   "outputs": [],
   "source": [
    "import json \n",
    "with open('pubmed_articles.json') as f:\n",
    "    data = json.load(f)"
   ]
  },
  {
   "cell_type": "code",
   "execution_count": 7,
   "metadata": {},
   "outputs": [
    {
     "data": {
      "text/plain": [
       "'33939349'"
      ]
     },
     "execution_count": 7,
     "metadata": {},
     "output_type": "execute_result"
    }
   ],
   "source": [
    "# Create a test list that consists of the first 20 items of the original json file\n",
    "data_items = data.items()\n",
    "type(data_items)\n",
    "first_20 = list(data_items)[:20]\n",
    "first_20"
   ]
  },
  {
   "cell_type": "code",
   "execution_count": 12,
   "metadata": {},
   "outputs": [],
   "source": [
    "alzheimer_data = {pmid: data for pmid, data in data.items() if (data[\"query\"] == \"Alzheimer\") or (data[\"query\"] == \"Alzheimer/Cancer\")}\n",
    "cancer_data = {pmid: data for pmid, data in data.items() if (data[\"query\"] == \"Cancer\") or (data[\"query\"] == \"Alzheimer/Cancer\")}\n",
    "overlap_data = {pmid: data for pmid, data in data.items() if data[\"query\"] == \"Alzheimer/Cancer\"}"
   ]
  },
  {
   "cell_type": "code",
   "execution_count": 17,
   "metadata": {},
   "outputs": [],
   "source": [
    "# Extract the mesh term list\n",
    "alzheimer_with_mesh = {pmid: data for pmid, data in alzheimer_data.items() if data[\"mesh\"] != []}\n",
    "# Create a test list that consists of the first fivee items in the alzheimer_with_mesh_list\n",
    "alzheimer_with_mesh_list_test = list(alzheimer_with_mesh.values())[:5]\n",
    "alzheimer_mesh_list_test = [x[\"mesh\"] for x in alzheimer_with_mesh_list_test]"
   ]
  },
  {
   "cell_type": "code",
   "execution_count": 21,
   "metadata": {},
   "outputs": [
    {
     "data": {
      "text/plain": [
       "[('Humans', 5),\n",
       " ('Alzheimer Disease', 3),\n",
       " ('Aged', 2),\n",
       " ('Female', 2),\n",
       " ('Male', 2),\n",
       " ('Amyloid', 1),\n",
       " ('Amyloid beta-Peptides', 1),\n",
       " ('Amyloidosis', 1),\n",
       " ('Plaque, Amyloid', 1),\n",
       " ('Cardiovascular Diseases', 1)]"
      ]
     },
     "execution_count": 21,
     "metadata": {},
     "output_type": "execute_result"
    }
   ],
   "source": [
    "# Find the top 10 most common mesh terms in the alzheimer mesh term test list \n",
    "from collections import Iterable\n",
    "from collections import Counter\n",
    "\n",
    "def flatten(lis):\n",
    "    # Loop through all mesh terms\n",
    "     for item in lis:\n",
    "        # If the mesh terms is nested inside another list\n",
    "         if isinstance(item, Iterable) and not isinstance(item, str):\n",
    "            # Convert the 2D list to 1D\n",
    "            for x in flatten(item):\n",
    "                # Return the mesh term\n",
    "                yield x\n",
    "         else: \n",
    "            # Return those that are not in the 2D list       \n",
    "            yield item\n",
    "alz_mesh_terms_test = list(flatten(alzheimer_mesh_list_test))\n",
    "\n",
    "# Find the most common mesh terms # Reference: https://www.delftstack.com/howto/python/python-counter-most-common/ \n",
    "c_alz_test = Counter(alz_mesh_terms_test)\n",
    "most_common_alz_meshTerms_test = c_alz_test.most_common(10)\n",
    "most_common_alz_meshTerms_test"
   ]
  },
  {
   "cell_type": "code",
   "execution_count": 25,
   "metadata": {},
   "outputs": [
    {
     "data": {
      "text/plain": [
       "['Alzheimer Disease',\n",
       " 'Amyloid',\n",
       " 'Amyloid beta-Peptides',\n",
       " 'Amyloidosis',\n",
       " 'Humans',\n",
       " 'Plaque, Amyloid',\n",
       " 'Aged',\n",
       " 'Cardiovascular Diseases',\n",
       " 'Directive Counseling',\n",
       " 'Female',\n",
       " 'Finland',\n",
       " 'France',\n",
       " 'Healthy Aging',\n",
       " 'Humans',\n",
       " 'Internet',\n",
       " 'Male',\n",
       " 'Netherlands',\n",
       " 'Prospective Studies',\n",
       " 'Risk',\n",
       " 'Self-Management',\n",
       " 'Alzheimer Disease',\n",
       " 'Correlation of Data',\n",
       " 'Financial Statements',\n",
       " 'Humans',\n",
       " 'Multifactorial Inheritance',\n",
       " 'Risk Assessment',\n",
       " 'Risk Factors',\n",
       " 'Alzheimer Disease',\n",
       " 'Cognition',\n",
       " 'Cognitive Dysfunction',\n",
       " 'Diabetes Mellitus',\n",
       " 'Humans',\n",
       " 'Hypoglycemic Agents',\n",
       " 'Adolescent',\n",
       " 'Adult',\n",
       " 'Age Distribution',\n",
       " 'Aged',\n",
       " 'Aged, 80 and over',\n",
       " 'Cause of Death',\n",
       " 'Child',\n",
       " 'Child, Preschool',\n",
       " 'Ethnic Groups',\n",
       " 'Female',\n",
       " 'Humans',\n",
       " 'Infant',\n",
       " 'Male',\n",
       " 'Middle Aged',\n",
       " 'Pregnancy',\n",
       " 'Sex Distribution',\n",
       " 'United States',\n",
       " 'Vital Statistics',\n",
       " 'Young Adult']"
      ]
     },
     "execution_count": 25,
     "metadata": {},
     "output_type": "execute_result"
    }
   ],
   "source": [
    "# Checked the mesh terms outputs\n",
    "alz_mesh_terms_test"
   ]
  },
  {
   "cell_type": "markdown",
   "metadata": {},
   "source": [
    "I printed out the alzhemier with mesh term test list and manually checked the frequencies for the mesh terms in the output."
   ]
  },
  {
   "cell_type": "code",
   "execution_count": 24,
   "metadata": {},
   "outputs": [
    {
     "data": {
      "text/plain": [
       "[('Humans', 4),\n",
       " ('Molecular Structure', 3),\n",
       " ('Phytochemicals', 3),\n",
       " ('A549 Cells', 2),\n",
       " ('Antineoplastic Agents, Phytogenic', 2),\n",
       " ('Adolescent', 1),\n",
       " ('Adult', 1),\n",
       " ('Age Distribution', 1),\n",
       " ('Aged', 1),\n",
       " ('Aged, 80 and over', 1)]"
      ]
     },
     "execution_count": 24,
     "metadata": {},
     "output_type": "execute_result"
    }
   ],
   "source": [
    "# Repeat the same steps above\n",
    "# Extract the mesh term list\n",
    "cancer_with_mesh = {pmid: data for pmid, data in cancer_data.items() if data[\"mesh\"] != []}\n",
    "cancer_with_mesh_list_test = list(cancer_with_mesh.values())[:5]\n",
    "cancer_mesh_list_test = [x[\"mesh\"] for x in cancer_with_mesh_list_test]\n",
    "\n",
    "# Convert a nested list into a one-dimensional list \n",
    "can_mesh_terms_test = list(flatten(cancer_mesh_list_test))\n",
    "\n",
    "# Find the most common mesh terms\n",
    "c_can_test = Counter(can_mesh_terms_test)\n",
    "most_common_can_meshTerms_test = c_can_test.most_common(10)\n",
    "most_common_can_meshTerms_test"
   ]
  },
  {
   "cell_type": "code",
   "execution_count": 26,
   "metadata": {},
   "outputs": [
    {
     "data": {
      "text/plain": [
       "['Adolescent',\n",
       " 'Adult',\n",
       " 'Age Distribution',\n",
       " 'Aged',\n",
       " 'Aged, 80 and over',\n",
       " 'Cause of Death',\n",
       " 'Child',\n",
       " 'Child, Preschool',\n",
       " 'Ethnic Groups',\n",
       " 'Female',\n",
       " 'Humans',\n",
       " 'Infant',\n",
       " 'Male',\n",
       " 'Middle Aged',\n",
       " 'Pregnancy',\n",
       " 'Sex Distribution',\n",
       " 'United States',\n",
       " 'Vital Statistics',\n",
       " 'Young Adult',\n",
       " 'A549 Cells',\n",
       " 'Antineoplastic Agents, Phytogenic',\n",
       " 'Humans',\n",
       " 'Magnetic Resonance Spectroscopy',\n",
       " 'Molecular Structure',\n",
       " 'Pentanones',\n",
       " 'Phytochemicals',\n",
       " 'Plant Roots',\n",
       " 'Wikstroemia',\n",
       " 'Animals',\n",
       " 'Antigens, Neoplasm',\n",
       " 'Fibrosis',\n",
       " 'Humans',\n",
       " 'Integrin beta Chains',\n",
       " 'Integrins',\n",
       " 'Mice',\n",
       " 'Neoplasms',\n",
       " 'Protein Binding',\n",
       " 'Wound Healing',\n",
       " 'Amides',\n",
       " 'Free Radical Scavengers',\n",
       " 'Glycosides',\n",
       " 'Molecular Structure',\n",
       " 'Phytochemicals',\n",
       " 'Portulaca',\n",
       " 'Spectrometry, Mass, Electrospray Ionization',\n",
       " 'A549 Cells',\n",
       " 'Antineoplastic Agents, Phytogenic',\n",
       " 'Humans',\n",
       " 'Isoflavones',\n",
       " 'Millettia',\n",
       " 'Molecular Structure',\n",
       " 'Phytochemicals']"
      ]
     },
     "execution_count": 26,
     "metadata": {},
     "output_type": "execute_result"
    }
   ],
   "source": [
    "# Checked the mesh terms outputs\n",
    "can_mesh_terms_test"
   ]
  },
  {
   "cell_type": "markdown",
   "metadata": {},
   "source": [
    "The answers turned out to be the same in both Alzheimer and cancer's papers so my code would also worked for the original json file. "
   ]
  }
 ],
 "metadata": {
  "interpreter": {
   "hash": "4ab75fa6c139a19b98c35d1d0b7c2c39c8e12c5863323b968d180b6d054e00a1"
  },
  "kernelspec": {
   "display_name": "Python 3.9.2 64-bit",
   "name": "python3"
  },
  "language_info": {
   "codemirror_mode": {
    "name": "ipython",
    "version": 3
   },
   "file_extension": ".py",
   "mimetype": "text/x-python",
   "name": "python",
   "nbconvert_exporter": "python",
   "pygments_lexer": "ipython3",
   "version": "3.9.2"
  },
  "orig_nbformat": 4
 },
 "nbformat": 4,
 "nbformat_minor": 2
}
