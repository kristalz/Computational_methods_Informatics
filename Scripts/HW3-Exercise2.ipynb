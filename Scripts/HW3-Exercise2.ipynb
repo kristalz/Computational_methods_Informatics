{
 "cells": [
  {
   "cell_type": "markdown",
   "metadata": {},
   "source": [
    "This question refers to the Alzheimer's and cancer metadata stored in Exercise 1. It is not intended to involve any new queries to PubMed nor to make statements about PubMed beyond that of the papers whose data was obtained.\n",
    "\n",
    "What fraction of the Alzheimer's papers have no MeSH terms? (2 points) What fraction of the cancer papers have no MeSH terms? (2 points)"
   ]
  },
  {
   "cell_type": "code",
   "execution_count": 2,
   "metadata": {},
   "outputs": [],
   "source": [
    "import json \n",
    "with open('pubmed_articles.json') as f:\n",
    "    data = json.load(f)"
   ]
  },
  {
   "cell_type": "code",
   "execution_count": 4,
   "metadata": {},
   "outputs": [],
   "source": [
    "# Split all articles into separate dictionaries according to the queries \n",
    "alzheimer_data = {pmid: data for pmid, data in data.items() if (data[\"query\"] == \"Alzheimer\") or (data[\"query\"] == \"Alzheimer/Cancer\")}\n",
    "cancer_data = {pmid: data for pmid, data in data.items() if (data[\"query\"] == \"Cancer\") or (data[\"query\"] == \"Alzheimer/Cancer\")}\n",
    "overlap_data = {pmid: data for pmid, data in data.items() if data[\"query\"] == \"Alzheimer/Cancer\"}"
   ]
  },
  {
   "cell_type": "code",
   "execution_count": 7,
   "metadata": {},
   "outputs": [
    {
     "data": {
      "text/plain": [
       "0.164"
      ]
     },
     "execution_count": 7,
     "metadata": {},
     "output_type": "execute_result"
    }
   ],
   "source": [
    "# Find out how many alzheimer's papers have no mesh terms in fraction\n",
    "alzheimer_no_mesh = {pmid: data for pmid, data in alzheimer_data.items() if data[\"mesh\"] == []}\n",
    "# Find the fraction\n",
    "len(alzheimer_no_mesh)/1000 "
   ]
  },
  {
   "cell_type": "code",
   "execution_count": 5,
   "metadata": {},
   "outputs": [
    {
     "data": {
      "text/plain": [
       "0.758"
      ]
     },
     "execution_count": 5,
     "metadata": {},
     "output_type": "execute_result"
    }
   ],
   "source": [
    "# Find out how many cancer papers have no mesh terms in fraction\n",
    "cancer_no_mesh = {pmid: data for pmid, data in cancer_data.items() if data[\"mesh\"] == []}\n",
    "len(cancer_no_mesh)/1000"
   ]
  },
  {
   "cell_type": "code",
   "execution_count": 8,
   "metadata": {},
   "outputs": [
    {
     "data": {
      "text/plain": [
       "4.621951219512195"
      ]
     },
     "execution_count": 8,
     "metadata": {},
     "output_type": "execute_result"
    }
   ],
   "source": [
    "# Compare the relative fraction of two groups of papers with no mesh terms \n",
    "0.758/0.164"
   ]
  },
  {
   "cell_type": "markdown",
   "metadata": {},
   "source": [
    "Comment on how the fractions compare. (1 point; i.e. if they're essentially the same, do you think that's a coincidence? If they're different, do you have any theories why?)\n",
    "\n",
    "Cancer papers with no mesh terms are almost 5 times as Alzhiemer's papers with no mesh terms. This large difference might imply that cancer papers have fewer standardized terms because it is a more general topic, whereas Alzhiemer's is a specific disease. "
   ]
  },
  {
   "cell_type": "markdown",
   "metadata": {},
   "source": [
    "What are the 10 most common MeSH terms for the Alzheimer's papers whose metadata you found in Exercise 1? (2 points) Provide a graphic illustrating their relative frequency. (3 points)"
   ]
  },
  {
   "cell_type": "code",
   "execution_count": 9,
   "metadata": {},
   "outputs": [],
   "source": [
    "# Extract the mesh term list\n",
    "alzheimer_with_mesh = {pmid: data for pmid, data in alzheimer_data.items() if data[\"mesh\"] != []}\n",
    "alzheimer_with_mesh_list = list(alzheimer_with_mesh.values())\n",
    "alzheimer_mesh_list = [x[\"mesh\"] for x in alzheimer_with_mesh_list]"
   ]
  },
  {
   "cell_type": "code",
   "execution_count": 11,
   "metadata": {},
   "outputs": [
    {
     "name": "stderr",
     "output_type": "stream",
     "text": [
      "C:\\Users\\kryst\\AppData\\Local\\Temp/ipykernel_39744/858019408.py:1: DeprecationWarning: Using or importing the ABCs from 'collections' instead of from 'collections.abc' is deprecated since Python 3.3, and in 3.10 it will stop working\n",
      "  from collections import Iterable\n"
     ]
    },
    {
     "data": {
      "text/plain": [
       "[('Humans', 701),\n",
       " ('Alzheimer Disease', 699),\n",
       " ('Male', 351),\n",
       " ('Female', 299),\n",
       " ('Aged', 285),\n",
       " ('Animals', 273),\n",
       " ('Amyloid beta-Peptides', 211),\n",
       " ('Brain', 190),\n",
       " ('Aged, 80 and over', 170),\n",
       " ('Cognitive Dysfunction', 156)]"
      ]
     },
     "execution_count": 11,
     "metadata": {},
     "output_type": "execute_result"
    }
   ],
   "source": [
    "from collections import Iterable\n",
    "from collections import Counter\n",
    "# Convert a nested list into a one-dimensional list \n",
    "# Reference: https://stackoverflow.com/questions/17485747/how-to-convert-a-nested-list-into-a-one-dimensional-list-in-python\n",
    "def flatten(lis):\n",
    "    # Loop through all mesh terms\n",
    "     for item in lis:\n",
    "        # If the mesh terms is nested inside another list\n",
    "         if isinstance(item, Iterable) and not isinstance(item, str):\n",
    "            # Convert the 2D list to 1D\n",
    "            for x in flatten(item):\n",
    "                # Return the mesh term\n",
    "                yield x\n",
    "         else: \n",
    "            # Return those that are not in the 2D list       \n",
    "            yield item\n",
    "alz_mesh_terms = list(flatten(alzheimer_mesh_list))\n",
    "\n",
    "# Find the most common mesh terms # Reference: https://www.delftstack.com/howto/python/python-counter-most-common/ \n",
    "c_alz = Counter(alz_mesh_terms)\n",
    "most_common_alz_meshTerms = c_alz.most_common(10)\n",
    "most_common_alz_meshTerms"
   ]
  },
  {
   "cell_type": "code",
   "execution_count": 20,
   "metadata": {},
   "outputs": [
    {
     "data": {
      "image/png": "[encoded data removed]",
      "text/plain": [
       "<Figure size 432x288 with 1 Axes>"
      ]
     },
     "metadata": {
      "needs_background": "light"
     },
     "output_type": "display_data"
    }
   ],
   "source": [
    "import pandas as pd\n",
    "import matplotlib.pyplot as plt\n",
    "\n",
    "alz_df = pd.DataFrame(most_common_alz_meshTerms, columns=['word', 'frequency'])\n",
    "alz_df.plot(kind='bar', x='word')\n",
    "plt.ylabel('Frequency')\n",
    "plt.xlabel('Mesh Terms')\n",
    "plt.title(\"10 most common Mesh Terms in Alzheimer's papers\")\n",
    "\n",
    "for x,y in enumerate(alz_df.frequency):\n",
    "    plt.text(x, y+1, '%.0f'%y, ha = 'center')\n"
   ]
  },
  {
   "cell_type": "markdown",
   "metadata": {},
   "source": [
    "What are the 10 most common MeSH terms for the cancer papers whose metadata you found in Exercise 1? (2 points) Provide a graphic illustrating their relative frequency. (3 points)"
   ]
  },
  {
   "cell_type": "code",
   "execution_count": 14,
   "metadata": {},
   "outputs": [
    {
     "data": {
      "text/plain": [
       "[('Humans', 222),\n",
       " ('Female', 96),\n",
       " ('Male', 63),\n",
       " ('Middle Aged', 63),\n",
       " ('Aged', 54),\n",
       " ('Adult', 52),\n",
       " ('Animals', 33),\n",
       " ('Neoplasms', 27),\n",
       " ('Retrospective Studies', 27),\n",
       " ('Aged, 80 and over', 21)]"
      ]
     },
     "execution_count": 14,
     "metadata": {},
     "output_type": "execute_result"
    }
   ],
   "source": [
    "# Extract the mesh term list\n",
    "cancer_with_mesh = {pmid: data for pmid, data in cancer_data.items() if data[\"mesh\"] != []}\n",
    "cancer_with_mesh_list = list(cancer_with_mesh.values())\n",
    "cancer_mesh_list = [x[\"mesh\"] for x in cancer_with_mesh_list]\n",
    "\n",
    "# Convert a nested list into a one-dimensional list \n",
    "can_mesh_terms = list(flatten(cancer_mesh_list))\n",
    "\n",
    "# Find the most common mesh terms\n",
    "c_can = Counter(can_mesh_terms)\n",
    "most_common_can_meshTerms = c_can.most_common(10)\n",
    "most_common_can_meshTerms"
   ]
  },
  {
   "cell_type": "code",
   "execution_count": 11,
   "metadata": {},
   "outputs": [
    {
     "data": {
      "image/png": "[encoded data removed]",
      "text/plain": [
       "<Figure size 432x288 with 1 Axes>"
      ]
     },
     "metadata": {
      "needs_background": "light"
     },
     "output_type": "display_data"
    }
   ],
   "source": [
    "can_df = pd.DataFrame(most_common_can_meshTerms, columns=['word', 'frequency'])\n",
    "can_df.plot(kind='bar', x='word')\n",
    "plt.ylabel('Frequency')\n",
    "plt.xlabel('Mesh Terms')\n",
    "plt.title(\"10 most common Mesh Terms in Cancer papers\")\n",
    "\n",
    "for x,y in enumerate(can_df.frequency):\n",
    "    plt.text(x, y+1, '%.0f'%y, ha = 'center')"
   ]
  },
  {
   "cell_type": "markdown",
   "metadata": {},
   "source": [
    "Make a labeled table with rows for each of the top 5 MeSH terms from the Alzheimer's query and columns for each of the top 5 MeSH terms from the cancer query. For the values in the table, provide the count of papers (combined, from both sets) having both the matching MeSH terms. (5 points)"
   ]
  },
  {
   "cell_type": "code",
   "execution_count": 15,
   "metadata": {},
   "outputs": [
    {
     "data": {
      "text/plain": [
       "[('Humans', 701),\n",
       " ('Alzheimer Disease', 699),\n",
       " ('Male', 351),\n",
       " ('Female', 299),\n",
       " ('Aged', 285)]"
      ]
     },
     "execution_count": 15,
     "metadata": {},
     "output_type": "execute_result"
    }
   ],
   "source": [
    "# Find the top 5 mesh terms in the alzheimer mesh terms and store in a dictionary\n",
    "alz_top5 = c_alz.most_common(5)\n",
    "alz_top5"
   ]
  },
  {
   "cell_type": "code",
   "execution_count": 16,
   "metadata": {},
   "outputs": [
    {
     "data": {
      "text/plain": [
       "[('Humans', 222),\n",
       " ('Female', 96),\n",
       " ('Male', 63),\n",
       " ('Middle Aged', 63),\n",
       " ('Aged', 54)]"
      ]
     },
     "execution_count": 16,
     "metadata": {},
     "output_type": "execute_result"
    }
   ],
   "source": [
    "# Find the top 5 mesh terms in the cancer mesh terms and store in a dictionary\n",
    "can_top5 = c_can.most_common(5)\n",
    "can_top5"
   ]
  },
  {
   "cell_type": "code",
   "execution_count": 17,
   "metadata": {},
   "outputs": [
    {
     "data": {
      "text/plain": [
       "array([[0., 0., 0., 0., 0.],\n",
       "       [0., 0., 0., 0., 0.],\n",
       "       [0., 0., 0., 0., 0.],\n",
       "       [0., 0., 0., 0., 0.],\n",
       "       [0., 0., 0., 0., 0.]])"
      ]
     },
     "execution_count": 17,
     "metadata": {},
     "output_type": "execute_result"
    }
   ],
   "source": [
    "import numpy as np\n",
    "# Make an empty 5x5 matrix \n",
    "matrix = np.zeros((5,5))\n",
    "matrix"
   ]
  },
  {
   "cell_type": "code",
   "execution_count": 18,
   "metadata": {},
   "outputs": [
    {
     "data": {
      "text/plain": [
       "array([[922, 381, 369, 208, 338],\n",
       "       [584, 236, 281, 109, 227],\n",
       "       [369, 327, 413, 180, 288],\n",
       "       [381, 394, 327, 192, 295],\n",
       "       [338, 295, 288, 175, 338]])"
      ]
     },
     "execution_count": 18,
     "metadata": {},
     "output_type": "execute_result"
    }
   ],
   "source": [
    "# Loop through the two dimensions of matrix \n",
    "for i in range(5):\n",
    "    for j in range(5):\n",
    "        count = 0\n",
    "        for k in data: # Add mesh terms' counts for Alzhimer's and Cancer papers into the matrix \n",
    "            if (alz_top5[i][0] in data[k][\"mesh\"]) and (can_top5[j][0] in data[k][\"mesh\"]):\n",
    "                count +=1\n",
    "            matrix[i][j] = count\n",
    "matrix = matrix.astype(int)\n",
    "matrix"
   ]
  },
  {
   "cell_type": "code",
   "execution_count": 21,
   "metadata": {},
   "outputs": [
    {
     "data": {
      "text/html": [
       "<div>\n",
       "<style scoped>\n",
       "    .dataframe tbody tr th:only-of-type {\n",
       "        vertical-align: middle;\n",
       "    }\n",
       "\n",
       "    .dataframe tbody tr th {\n",
       "        vertical-align: top;\n",
       "    }\n",
       "\n",
       "    .dataframe thead th {\n",
       "        text-align: right;\n",
       "    }\n",
       "</style>\n",
       "<table border=\"1\" class=\"dataframe\">\n",
       "  <thead>\n",
       "    <tr style=\"text-align: right;\">\n",
       "      <th></th>\n",
       "      <th>Humans</th>\n",
       "      <th>Female</th>\n",
       "      <th>Male</th>\n",
       "      <th>Middle Aged</th>\n",
       "      <th>Aged</th>\n",
       "    </tr>\n",
       "  </thead>\n",
       "  <tbody>\n",
       "    <tr>\n",
       "      <th>Humans</th>\n",
       "      <td>922</td>\n",
       "      <td>381</td>\n",
       "      <td>369</td>\n",
       "      <td>208</td>\n",
       "      <td>338</td>\n",
       "    </tr>\n",
       "    <tr>\n",
       "      <th>Alzheimer Disease</th>\n",
       "      <td>584</td>\n",
       "      <td>236</td>\n",
       "      <td>281</td>\n",
       "      <td>109</td>\n",
       "      <td>227</td>\n",
       "    </tr>\n",
       "    <tr>\n",
       "      <th>Male</th>\n",
       "      <td>369</td>\n",
       "      <td>327</td>\n",
       "      <td>413</td>\n",
       "      <td>180</td>\n",
       "      <td>288</td>\n",
       "    </tr>\n",
       "    <tr>\n",
       "      <th>Female</th>\n",
       "      <td>381</td>\n",
       "      <td>394</td>\n",
       "      <td>327</td>\n",
       "      <td>192</td>\n",
       "      <td>295</td>\n",
       "    </tr>\n",
       "    <tr>\n",
       "      <th>Aged</th>\n",
       "      <td>338</td>\n",
       "      <td>295</td>\n",
       "      <td>288</td>\n",
       "      <td>175</td>\n",
       "      <td>338</td>\n",
       "    </tr>\n",
       "  </tbody>\n",
       "</table>\n",
       "</div>"
      ],
      "text/plain": [
       "                   Humans  Female  Male  Middle Aged  Aged\n",
       "Humans                922     381   369          208   338\n",
       "Alzheimer Disease     584     236   281          109   227\n",
       "Male                  369     327   413          180   288\n",
       "Female                381     394   327          192   295\n",
       "Aged                  338     295   288          175   338"
      ]
     },
     "execution_count": 21,
     "metadata": {},
     "output_type": "execute_result"
    }
   ],
   "source": [
    "top5_mesh_df = pd.DataFrame(matrix,\n",
    "                  index = [tup[0] for tup in alz_top5],\n",
    "                  columns= [tup[0] for tup in can_top5])   \n",
    "top5_mesh_df "
   ]
  },
  {
   "cell_type": "code",
   "execution_count": 17,
   "metadata": {},
   "outputs": [
    {
     "data": {
      "image/png": "[encoded data removed]",
      "text/plain": [
       "<Figure size 432x288 with 1 Axes>"
      ]
     },
     "metadata": {
      "needs_background": "light"
     },
     "output_type": "display_data"
    }
   ],
   "source": [
    "# Generate a table of top five mesh terms from both papers using maplotlib \n",
    "fig, ax = plt.subplots(1,1) \n",
    "# Hide the axis\n",
    "ax.set_axis_off() \n",
    "table = ax.table( \n",
    "    cellText = matrix,  \n",
    "    rowLabels = [tup[0] for tup in alz_top5],  \n",
    "    colLabels = [tup[0] for tup in can_top5], \n",
    "    rowColours =[\"palegreen\"] * 10,  \n",
    "    colColours =[\"palegreen\"] * 10, \n",
    "    cellLoc ='center',  \n",
    "    loc ='upper left')         \n",
    "ax.set_title(\"Top Five Mesh Terms in Alzheimer's and Cancer Papers\", \n",
    "             fontweight =\"bold\") \n",
    "   \n",
    "plt.show() "
   ]
  }
 ],
 "metadata": {
  "interpreter": {
   "hash": "4ab75fa6c139a19b98c35d1d0b7c2c39c8e12c5863323b968d180b6d054e00a1"
  },
  "kernelspec": {
   "display_name": "Python 3.9.2 64-bit",
   "name": "python3"
  },
  "language_info": {
   "codemirror_mode": {
    "name": "ipython",
    "version": 3
   },
   "file_extension": ".py",
   "mimetype": "text/x-python",
   "name": "python",
   "nbconvert_exporter": "python",
   "pygments_lexer": "ipython3",
   "version": "3.9.2"
  },
  "orig_nbformat": 4
 },
 "nbformat": 4,
 "nbformat_minor": 2
}
