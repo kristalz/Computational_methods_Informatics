{
 "cells": [
  {
   "cell_type": "code",
   "execution_count": 2,
   "id": "ef421400",
   "metadata": {},
   "outputs": [
    {
     "name": "stdout",
     "output_type": "stream",
     "text": [
      "[(0, 62500), (62500, 125000), (125000, 187499), (187499, 249998), (249998, 312497), (312497, 374996), (374996, 437495), (437495, 499994), (499994, 562493), (562493, 624992), (624992, 687491), (687491, 749990), (749990, 812489), (812489, 874988), (874988, 937487), (937487, 999986)]\n"
     ]
    },
    {
     "data": {
      "text/plain": [
       "array([ 922556.68357319, 1084706.53924834, 1222692.96952731,\n",
       "       1135398.32975902, 1050800.51342871, 1153119.99138061,\n",
       "       1141605.23763076, 1176364.96924683, 1189347.11236279,\n",
       "       1034472.84341873, 1131014.5518426 , 1149660.39047853,\n",
       "       1131261.15346412, 1060639.07800518, 1023213.22644892,\n",
       "       1038806.85209876, 1077533.98480681, 1058671.28565266,\n",
       "       1114512.21018748, 1165611.09067147, 1220845.56853313,\n",
       "       1170960.57396639, 1141279.50955816, 1135370.19145491,\n",
       "       1176720.10014671, 1112524.09046371, 1095998.23434587,\n",
       "       1100779.98547468, 1133790.21880071, 1168608.8119644 ,\n",
       "       1193118.97197072, 1165013.57205796, 1074866.58490521,\n",
       "       1070894.28979771, 1087721.94858286, 1006153.77443337,\n",
       "       1026361.70246057, 1037738.26923899, 1014942.41915701,\n",
       "       1035010.3748797 , 1007372.42166546, 1030079.65958299,\n",
       "       1028296.21499975,  998476.99905821, 1018444.87119545,\n",
       "        980503.62655229,  987602.61456001, 1003919.951833  ,\n",
       "        996124.95144467,  987609.46366307, 1001296.46177709,\n",
       "        984544.22190293, 1001159.62984021,  933592.17250603,\n",
       "        947714.10066227,  956898.19875792,  967022.56347579,\n",
       "        948146.07471601,  925115.55709167,  935927.75248046,\n",
       "        950582.76308199,  956897.87638989,  970408.13569101,\n",
       "        979877.28760973,  989863.16138578, 1003199.48954571,\n",
       "       1012537.49985991, 1026759.90649799, 1029081.08504086,\n",
       "       1030829.73353174, 1005268.76748643, 1006301.93060788,\n",
       "        991411.17301861, 1001179.74231441, 1009973.1596418 ,\n",
       "       1012614.96098815, 1022390.93983163,  984549.82800573,\n",
       "        993972.84978044, 1000984.79693468,  997672.81447526,\n",
       "       1006620.57122151, 1004425.55891473, 1014719.42901502,\n",
       "       1026616.08051128, 1024675.14505629, 1031128.22359758,\n",
       "       1038383.03629536, 1046789.28217759, 1050284.0922267 ,\n",
       "       1053905.16625787, 1034018.19003002, 1044706.65700126,\n",
       "       1049246.40832383, 1047027.14085654, 1052882.62358971,\n",
       "       1037136.93829223, 1038239.68034808, 1040061.25742749,\n",
       "       1048865.64050585])"
      ]
     },
     "execution_count": 2,
     "metadata": {},
     "output_type": "execute_result"
    }
   ],
   "source": [
    "from Bio import SeqIO\n",
    "human_genome = SeqIO.parse(\"GCA_000001405.28_GRCh38.p13_genomic.fna\", \"fasta\")\n",
    "for chromosome in human_genome:\n",
    "    if chromosome.name == \"CM000664.2\":\n",
    "        sequence = str(chromosome.seq).lower().encode('utf8')\n",
    "\n",
    "p = 2_549_536_629_329\n",
    "bits_48 = 2 ** 48 - 1\n",
    "scale = 0x07ffffffff\n",
    "from hashlib import sha256\n",
    "import numpy as np\n",
    "import multiprocessing as mp\n",
    "\n",
    "def quick_min_hash(q,progress,a,range_l,range_r):\n",
    "    # Set a min_list that has the largest hash values. Therefore, any hash value found later will be smaller than this list of values.\n",
    "    min_list=[scale]*a\n",
    "    # For each range of task (individual task distributed for each worker[explained in the loaddist function]), store the integer hash value of the entire sequence using sha256 function and take the reminder of bits_48 into a variable s256.\n",
    "    for i in range(range_l,range_r):\n",
    "        s256=int(sha256(sequence[i:i+15]).hexdigest(),16) % bits_48\n",
    "        # Enumerate the min hash value list from index 1    \n",
    "        for j,minval in enumerate(min_list,start=1):\n",
    "            # Store the last couple digits of scale after multipling s256 with any index inside my min_list in a variable t. \n",
    "            t=((s256*j)%p)&scale\n",
    "            # Compare t if t is smaller than the hash value in min_list. If yes, store the new hash value as t. \n",
    "            if t<min_list[j-1]:\n",
    "                min_list[j-1]=t\n",
    "        # Calculate the percentages of the progress after completing every 100,000 subsequences.\n",
    "        if (i-range_l+1)%100000==0:\n",
    "            progress.put(100000)\n",
    "    progress.put((range_r-range_l)%100000)\n",
    "    q.put(min_list) # Put the list of min hash value into the queue.\n",
    "\n",
    "def loaddist(size,worker,start=0):\n",
    "    # Evenly distribute the entire task for each worker.\n",
    "    distrib=[size//worker]*worker\n",
    "    # The size of the entire task (going through the 100 hash families) \n",
    "    # divided by my total workers will not be an interger (my computer has 8 cores 16 threads).\n",
    "    # Thus, whatever left-off after division(remainders) will again evenly distributed to each worker.\n",
    "    for i in range(size%worker):\n",
    "        distrib[i]+=1\n",
    "    i=start\n",
    "    result=[]\n",
    "    for size in distrib:\n",
    "        result.append((i,i+size))\n",
    "        i+=size\n",
    "    return result\n",
    "\n",
    "def estimate_value(a,seq):\n",
    "    min_list=[scale]*a\n",
    "    proc_list=[]\n",
    "    queue_list=[]\n",
    "    \n",
    "    # Evenly distribute the task of loading all 15-mer subsequences to 16 workers.\n",
    "    range_list=loaddist(len(seq)-14,16)\n",
    "    print(range_list)\n",
    "    \n",
    "    # Store the queuing process in a progress bar.\n",
    "    progbar=mp.Queue()\n",
    "\n",
    "    for l,r in range_list:\n",
    "        \n",
    "        q=mp.Queue()\n",
    "        # l=range_l, r=range_r\n",
    "        p=mp.Process(target=quick_min_hash,args=(q,progbar,a,l,r))\n",
    "        # Start the process \n",
    "        p.start()\n",
    "        # Store results in the process and queue lists\n",
    "        proc_list.append(p)\n",
    "        queue_list.append(q)\n",
    "\n",
    "    for i,p in enumerate(proc_list):    \n",
    "    # Get the results by queuing each worker while looping through the process lsit\n",
    "        for i,newval in enumerate(queue_list[i].get()):\n",
    "            # Compare the new hash values with the original hash values in the min_list, storing the new min hash values\n",
    "            if newval<min_list[i]:\n",
    "                min_list[i]=newval\n",
    "        min_arr = np.array(min_list)\n",
    "        # End the process by joining the results from all workers \n",
    "        p.join()\n",
    "        \n",
    "    min_arr=min_arr/scale\n",
    "    mean_hash_list=[]\n",
    "    mean_hash=0\n",
    "    total=0\n",
    "    for count,hash in enumerate(min_arr,start=1):\n",
    "        total+=hash\n",
    "        mean_hash_list.append(total/count)\n",
    "    mean_hash_list=np.array(mean_hash_list)\n",
    "    mean_hash_estimates=(1/mean_hash_list)-1\n",
    "    return mean_hash_estimates\n",
    "\n",
    "test1 = sequence[0:1000000]\n",
    "\n",
    "# Estimate distinct values for all 100 families in the first 1000000 protions:\n",
    "test1_results = estimate_value(100,test1)\n",
    "test1_results"
   ]
  },
  {
   "cell_type": "code",
   "execution_count": 3,
   "id": "833def31",
   "metadata": {},
   "outputs": [
    {
     "name": "stdout",
     "output_type": "stream",
     "text": [
      "There are 931157 true distinct subsequences in test1\n"
     ]
    }
   ],
   "source": [
    "test1_sub=[test1[i:i+15] for i in range(len(test1)-14)]\n",
    "print(f\"There are {len(set(test1_sub))} true distinct subsequences in test1\") "
   ]
  },
  {
   "cell_type": "code",
   "execution_count": 6,
   "id": "4307c6c5",
   "metadata": {},
   "outputs": [
    {
     "data": {
      "image/png": "[encoded data removed]",
      "text/plain": [
       "<Figure size 432x288 with 1 Axes>"
      ]
     },
     "metadata": {
      "needs_background": "light"
     },
     "output_type": "display_data"
    }
   ],
   "source": [
    "from matplotlib import pyplot as plt\n",
    "x = np.arange(100)\n",
    "plt.plot(x, test1_results)\n",
    "plt.ylabel('Estimated distinct values')\n",
    "plt.xlabel('Number of hash functions')\n",
    "plt.legend(['y = mean hash then estimate', 'median hash then estimate', 'estimate then mean', 'estimate then median'], loc='upper left')\n",
    "plt.show()"
   ]
  },
  {
   "cell_type": "code",
   "execution_count": 7,
   "id": "d60bb231",
   "metadata": {},
   "outputs": [
    {
     "data": {
      "text/plain": [
       "1048865.6405058529"
      ]
     },
     "execution_count": 7,
     "metadata": {},
     "output_type": "execute_result"
    }
   ],
   "source": [
    "test1_estimate_100 = test1_results[-1]\n",
    "test1_estimate_100"
   ]
  },
  {
   "cell_type": "code",
   "execution_count": 8,
   "id": "d95f35cb",
   "metadata": {},
   "outputs": [
    {
     "data": {
      "text/plain": [
       "922556.683573193"
      ]
     },
     "execution_count": 8,
     "metadata": {},
     "output_type": "execute_result"
    }
   ],
   "source": [
    "test1_estimate_1 = test1_results[0]\n",
    "test1_estimate_1 "
   ]
  },
  {
   "cell_type": "code",
   "execution_count": 9,
   "id": "da34d0d0",
   "metadata": {},
   "outputs": [
    {
     "data": {
      "text/plain": [
       "1034472.843418727"
      ]
     },
     "execution_count": 9,
     "metadata": {},
     "output_type": "execute_result"
    }
   ],
   "source": [
    "test1_estimate_10 = test1_results[9]\n",
    "test1_estimate_10"
   ]
  },
  {
   "cell_type": "code",
   "execution_count": 10,
   "id": "c871873c",
   "metadata": {},
   "outputs": [
    {
     "name": "stdout",
     "output_type": "stream",
     "text": [
      "[(0, 6250), (6250, 12500), (12500, 18749), (18749, 24998), (24998, 31247), (31247, 37496), (37496, 43745), (43745, 49994), (49994, 56243), (56243, 62492), (62492, 68741), (68741, 74990), (74990, 81239), (81239, 87488), (87488, 93737), (93737, 99986)]\n"
     ]
    },
    {
     "data": {
      "text/plain": [
       "array([127919.15862444,  95205.49483648,  63165.04443901,  82365.78878427,\n",
       "        61174.16021569,  57481.20402602,  60485.32070493,  62526.21868588,\n",
       "        63374.13601411,  65453.6635698 ,  51692.15266173,  52240.82253838,\n",
       "        56028.78260898,  59365.46782722,  63100.83966464,  61411.39918274,\n",
       "        62037.34807132,  65394.15749929,  67800.06491946,  68824.04747432,\n",
       "        71425.59219595,  69676.61359859,  71717.10421665,  72075.34228028,\n",
       "        71650.28689485,  74065.29401167,  73683.34422198,  76245.63131658,\n",
       "        69703.3462676 ,  71659.29584151,  64270.57677614,  64984.89491452,\n",
       "        65901.43903368,  65750.82237946,  67567.20714915,  68393.49270254,\n",
       "        68893.12146992,  69466.33648537,  70690.94513863,  71458.52802245,\n",
       "        69548.53173563,  69458.92950537,  70719.48827994,  69708.44592446,\n",
       "        71043.8439423 ,  71502.72289346,  71836.95630326,  70577.34869662,\n",
       "        69795.60934669,  69802.17379936,  71167.7680267 ,  71772.13372078,\n",
       "        71720.72655578,  72506.21044016,  72779.26904815,  73945.70315627,\n",
       "        75154.18390098,  74350.58077541,  74947.69388004,  75718.04077393,\n",
       "        73967.43187209,  74916.131796  ,  75637.29397641,  75778.52339312,\n",
       "        76930.57432586,  78102.68676834,  78556.53728882,  76784.00783246,\n",
       "        76625.63964795,  77581.23145931,  78264.25886952,  79060.10144261,\n",
       "        79819.24177133,  79063.00124401,  79331.44906969,  80106.97172333,\n",
       "        80442.44185265,  80699.74854381,  81427.59644285,  81308.6090557 ,\n",
       "        82182.51954252,  81905.13706196,  82516.83464702,  83311.880195  ,\n",
       "        83315.09605276,  83743.29363558,  84036.17390842,  84350.33830451,\n",
       "        80242.03679407,  80821.35498518,  81171.20242886,  80957.89532914,\n",
       "        81834.50474578,  80285.82495455,  80916.32579179,  81350.04299966,\n",
       "        81543.03487991,  82108.64840744,  82207.96274409,  83027.71125458])"
      ]
     },
     "execution_count": 10,
     "metadata": {},
     "output_type": "execute_result"
    }
   ],
   "source": [
    "# Estimate distinct values for all 100 families in the first 100000 protions:\n",
    "test2 = sequence[0:100000]\n",
    "test2_results = estimate_value(100,test2)\n",
    "test2_results"
   ]
  },
  {
   "cell_type": "code",
   "execution_count": 12,
   "id": "13acdc25",
   "metadata": {},
   "outputs": [
    {
     "name": "stdout",
     "output_type": "stream",
     "text": [
      "There are 87191 true distinct subsequences in test2\n"
     ]
    }
   ],
   "source": [
    "test2_sub=[test2[i:i+15] for i in range(len(test2)-14)]\n",
    "print(f\"There are {len(set(test2_sub))} true distinct subsequences in test2\") "
   ]
  },
  {
   "cell_type": "code",
   "execution_count": 17,
   "id": "db8f14bb",
   "metadata": {},
   "outputs": [
    {
     "data": {
      "image/png": "[encoded data removed]",
      "text/plain": [
       "<Figure size 432x288 with 1 Axes>"
      ]
     },
     "metadata": {
      "needs_background": "light"
     },
     "output_type": "display_data"
    }
   ],
   "source": [
    "x = np.arange(100)\n",
    "plt.plot(x, test2_results)\n",
    "plt.ylabel('Estimated distinct values')\n",
    "plt.xlabel('Number of hash functions')\n",
    "plt.legend(['y = mean hash then estimate'], loc='upper left')\n",
    "plt.show()"
   ]
  },
  {
   "cell_type": "code",
   "execution_count": 13,
   "id": "25361a7c",
   "metadata": {},
   "outputs": [
    {
     "data": {
      "text/plain": [
       "83027.71125458396"
      ]
     },
     "execution_count": 13,
     "metadata": {},
     "output_type": "execute_result"
    }
   ],
   "source": [
    "test2_estimate_100 = test2_results[-1]\n",
    "test2_estimate_100"
   ]
  },
  {
   "cell_type": "code",
   "execution_count": 14,
   "id": "bc246e71",
   "metadata": {},
   "outputs": [
    {
     "data": {
      "text/plain": [
       "127919.15862443828"
      ]
     },
     "execution_count": 14,
     "metadata": {},
     "output_type": "execute_result"
    }
   ],
   "source": [
    "test2_estimate_1 = test2_results[0]\n",
    "test2_estimate_1"
   ]
  },
  {
   "cell_type": "code",
   "execution_count": 18,
   "id": "93e21e7b",
   "metadata": {},
   "outputs": [
    {
     "name": "stdout",
     "output_type": "stream",
     "text": [
      "[(0, 15137095), (15137095, 30274190), (30274190, 45411285), (45411285, 60548380), (60548380, 75685475), (75685475, 90822570), (90822570, 105959665), (105959665, 121096760), (121096760, 136233855), (136233855, 151370950), (151370950, 166508045), (166508045, 181645139), (181645139, 196782233), (196782233, 211919327), (211919327, 227056421), (227056421, 242193515)]\n"
     ]
    },
    {
     "data": {
      "text/plain": [
       "array([6.60764189e+07, 9.85932224e+07, 1.42178227e+08, 1.27376230e+08,\n",
       "       1.50305066e+08, 1.41107754e+08, 1.16304723e+08, 1.28990101e+08,\n",
       "       1.43431189e+08, 1.33539596e+08, 1.08421434e+08, 1.04915231e+08,\n",
       "       1.05597304e+08, 1.12496804e+08, 1.18373007e+08, 1.22713350e+08,\n",
       "       1.08370231e+08, 1.12164542e+08, 1.16640169e+08, 1.22146243e+08,\n",
       "       1.26145892e+08, 1.17761994e+08, 1.18909716e+08, 1.21681233e+08,\n",
       "       1.23649554e+08, 1.27095346e+08, 1.30351683e+08, 1.32882965e+08,\n",
       "       1.33391219e+08, 1.36204036e+08, 1.25889597e+08, 1.26192083e+08,\n",
       "       1.21373513e+08, 1.22033960e+08, 1.22214516e+08, 1.22749883e+08,\n",
       "       1.25810026e+08, 1.22139387e+08, 1.24364713e+08, 1.26870629e+08,\n",
       "       1.29266770e+08, 1.30929868e+08, 1.32070147e+08, 1.33991711e+08,\n",
       "       1.31814852e+08, 1.31416642e+08, 1.32033987e+08, 1.34425579e+08,\n",
       "       1.35885970e+08, 1.34955766e+08, 1.36475595e+08, 1.35943573e+08,\n",
       "       1.38126981e+08, 1.40371150e+08, 1.42938174e+08, 1.42889153e+08,\n",
       "       1.45095946e+08, 1.40858412e+08, 1.43145357e+08, 1.44682735e+08,\n",
       "       1.43912663e+08, 1.43088646e+08, 1.44426441e+08, 1.38547331e+08,\n",
       "       1.34735942e+08, 1.32083564e+08, 1.33975584e+08, 1.35290225e+08,\n",
       "       1.36875581e+08, 1.36595960e+08, 1.34669688e+08, 1.33666584e+08,\n",
       "       1.29666092e+08, 1.31062919e+08, 1.29763853e+08, 1.28561446e+08,\n",
       "       1.28519374e+08, 1.29122161e+08, 1.29264218e+08, 1.30181343e+08,\n",
       "       1.30321164e+08, 1.27292786e+08, 1.26895891e+08, 1.27454979e+08,\n",
       "       1.28642811e+08, 1.29200187e+08, 1.30105206e+08, 1.29166430e+08,\n",
       "       1.30411390e+08, 1.31657716e+08, 1.33097913e+08, 1.33797338e+08,\n",
       "       1.34229003e+08, 1.33386280e+08, 1.32110050e+08, 1.33091303e+08,\n",
       "       1.32510122e+08, 1.33193083e+08, 1.32875550e+08, 1.33799603e+08])"
      ]
     },
     "execution_count": 18,
     "metadata": {},
     "output_type": "execute_result"
    }
   ],
   "source": [
    "seq_results = estimate_value(100,sequence)\n",
    "seq_results"
   ]
  },
  {
   "cell_type": "code",
   "execution_count": 19,
   "id": "276ffcae",
   "metadata": {},
   "outputs": [
    {
     "data": {
      "image/png": "[encoded data removed]",
      "text/plain": [
       "<Figure size 432x288 with 1 Axes>"
      ]
     },
     "metadata": {
      "needs_background": "light"
     },
     "output_type": "display_data"
    }
   ],
   "source": [
    "x = np.arange(100)\n",
    "plt.plot(x, seq_results)\n",
    "plt.ylabel('Estimated distinct values')\n",
    "plt.xlabel('Number of hash functions')\n",
    "plt.legend(['y = mean hash then estimate', 'median hash then estimate', 'estimate then mean', 'estimate then median'], loc='upper left')\n",
    "plt.show()"
   ]
  },
  {
   "cell_type": "code",
   "execution_count": 20,
   "id": "81945c6c",
   "metadata": {},
   "outputs": [
    {
     "data": {
      "text/plain": [
       "133799603.23286605"
      ]
     },
     "execution_count": 20,
     "metadata": {},
     "output_type": "execute_result"
    }
   ],
   "source": [
    "seq_estimate_100 = seq_results[-1]\n",
    "seq_estimate_100"
   ]
  },
  {
   "cell_type": "code",
   "execution_count": 21,
   "id": "5533248b",
   "metadata": {},
   "outputs": [
    {
     "data": {
      "text/plain": [
       "66076418.93653846"
      ]
     },
     "execution_count": 21,
     "metadata": {},
     "output_type": "execute_result"
    }
   ],
   "source": [
    "seq_estimate_1 = seq_results[0]\n",
    "seq_estimate_1"
   ]
  },
  {
   "cell_type": "code",
   "execution_count": 22,
   "id": "3fddab7c",
   "metadata": {},
   "outputs": [
    {
     "data": {
      "text/plain": [
       "133539596.22891568"
      ]
     },
     "execution_count": 22,
     "metadata": {},
     "output_type": "execute_result"
    }
   ],
   "source": [
    "seq_estimate_10 = seq_results[9]\n",
    "seq_estimate_10"
   ]
  },
  {
   "cell_type": "code",
   "execution_count": 70,
   "id": "a3e83505",
   "metadata": {},
   "outputs": [
    {
     "name": "stdout",
     "output_type": "stream",
     "text": [
      "There are 9986 true distinct subsequences\n"
     ]
    },
    {
     "data": {
      "text/plain": [
       "(array([69149.70050233, 22368.50482484, 23066.36404149, 23156.66803136,\n",
       "        23129.69654422, 25160.38881306, 23238.87376716, 20304.27785644,\n",
       "        16494.3295044 , 17119.20612118, 16219.24206166, 15452.39236455,\n",
       "        11062.79103263, 10764.12498011, 11347.38077928, 12007.08126852,\n",
       "        12644.80641691, 11679.13777346, 11190.26719614, 11268.2271557 ,\n",
       "        11621.25267773, 11772.874411  , 12102.24047849, 12558.30963491,\n",
       "        12915.87340977, 13117.41805414, 13440.54599051, 12894.551195  ,\n",
       "        11732.23343975, 11782.64997896, 11899.78964923, 11411.12040668,\n",
       "        11736.08742716, 11073.83833179, 11226.57989311, 10548.71553958,\n",
       "        10344.74763259, 10340.84685008,  9730.96835136,  9928.34272929,\n",
       "         9633.39652272,  9865.5543114 ,  9919.7784728 , 10060.0587759 ,\n",
       "         9887.94756842, 10047.86700528, 10205.23655812, 10374.55495415,\n",
       "        10460.43101157, 10252.56598285, 10419.35400369, 10425.5788041 ,\n",
       "        10478.60886301, 10192.24406005,  9853.74306917,  8897.58947733,\n",
       "         8727.94363164,  8751.04440978,  8735.97156666,  8692.7760596 ,\n",
       "         8530.22469634,  8280.35407496,  8411.88057907,  8515.44832156,\n",
       "         8638.19621897,  8753.50421591,  8715.80604494,  8730.63800146,\n",
       "         8643.82295314,  8547.52860277,  8625.64152859,  8713.42370487,\n",
       "         8469.0916422 ,  8270.45627948,  8277.57668783,  8354.51821934,\n",
       "         8407.3596683 ,  8494.83992419,  8577.24486003,  8655.36229873,\n",
       "         8755.08955255,  8851.05839854,  8841.67540756,  8945.88877289,\n",
       "         8787.80490321,  8813.64069214,  8887.95235902,  8919.10934762,\n",
       "         8921.42060033,  8824.48731395,  8914.47833557,  8970.34516358,\n",
       "         9052.26925492,  9115.05654568,  9211.68925681,  9270.48685388,\n",
       "         9203.45432789,  9260.29159692,  9334.77406075,  9138.01791483]),\n",
       " array([69149.70050233, 22368.50482484, 24601.40137806, 24002.39959957,\n",
       "        23431.87267451, 24002.39959957, 23431.87267451, 23225.35005337,\n",
       "        23022.43595034, 23225.35005337, 23022.43595034, 18834.96488842,\n",
       "        15936.30892454, 14524.16013498, 15936.30892454, 18834.96488842,\n",
       "        23022.43595034, 18834.96488842, 15936.30892454, 14524.16013498,\n",
       "        15936.30892454, 16074.74671008, 16215.61062092, 19028.64591463,\n",
       "        23022.43595034, 22239.16215959, 23022.43595034, 22239.16215959,\n",
       "        21507.42995842, 18490.36957027, 16957.14985324, 16578.09260478,\n",
       "        16957.14985324, 16578.09260478, 16957.14985324, 16578.09260478,\n",
       "        16215.61062092, 16074.74671008, 15936.30892454, 16074.74671008,\n",
       "        15936.30892454, 16074.74671008, 15936.30892454, 16074.74671008,\n",
       "        15936.30892454, 16074.74671008, 16215.61062092, 16578.09260478,\n",
       "        16957.14985324, 16578.09260478, 16957.14985324, 16578.09260478,\n",
       "        16215.61062092, 16074.74671008, 15936.30892454, 15044.26239952,\n",
       "        14246.78241986, 13842.23718549, 13460.03063348, 13400.70165736,\n",
       "        13341.89336671, 13162.21839578, 13341.89336671, 13400.70165736,\n",
       "        13460.03063348, 13842.23718549, 13460.03063348, 13400.70165736,\n",
       "        13341.89336671, 13162.21839578, 13341.89336671, 13400.70165736,\n",
       "        13341.89336671, 13162.21839578, 12987.3181236 , 13162.21839578,\n",
       "        13341.89336671, 13400.70165736, 13460.03063348, 13842.23718549,\n",
       "        14246.78241986, 15044.26239952, 14246.78241986, 15044.26239952,\n",
       "        14246.78241986, 13842.23718549, 14246.78241986, 13842.23718549,\n",
       "        13460.03063348, 13400.70165736, 13460.03063348, 13842.23718549,\n",
       "        14246.78241986, 15044.26239952, 15936.30892454, 16061.50135487,\n",
       "        15936.30892454, 16061.50135487, 16188.67620731, 16061.50135487]),\n",
       " array([69149.70050233, 41245.79693452, 35697.66508237, 32631.2169804 ,\n",
       "        30709.46077439, 33065.68398458, 30618.63040457, 28138.45290373,\n",
       "        25744.65995465, 25767.75758391, 24391.64582343, 23206.12259219,\n",
       "        21614.0027016 , 20639.26354165, 22396.27615493, 26858.63451065,\n",
       "        30228.81809694, 28831.7377297 , 27650.15440945, 26917.01259516,\n",
       "        27117.09072932, 26621.56890621, 26832.4372929 , 29639.44262978,\n",
       "        30085.15749592, 29755.24489832, 30037.66062246, 29184.50456382,\n",
       "        28292.92771542, 27798.49781268, 27448.77691077, 26747.87477102,\n",
       "        29943.45974086, 29176.55334645, 28946.93847326, 28236.96209945,\n",
       "        27638.63891638, 27179.68940104, 26559.74427524, 27083.22060063,\n",
       "        26530.01830557, 45421.72688136, 44665.33536497, 44233.54175329,\n",
       "        43375.93289767, 43235.26547444, 43091.94785028, 43175.44440943,\n",
       "        42648.52049704, 41899.43663209, 42172.33954456, 41568.12561061,\n",
       "        41052.62856928, 40369.47697694, 39699.61473968, 39015.75321771,\n",
       "        38405.31488351, 37920.84059783, 37412.73329361, 36901.34632733,\n",
       "        36362.30230119, 35823.73002441, 43982.62304165, 43888.29787876,\n",
       "        44926.6058018 , 45247.42373492, 44673.38312364, 44161.33563728,\n",
       "        43596.05126981, 43042.28671073, 42773.2032835 , 42615.23548502,\n",
       "        42069.88791838, 41542.57865141, 41106.55520767, 40928.57266132,\n",
       "        40607.27530478, 40634.28741364, 40565.95647465, 40444.50208627,\n",
       "        41324.96919936, 41782.95636013, 41377.55384936, 45765.80188978,\n",
       "        45268.99092394, 44879.23274832, 44734.93101056, 44372.40575164,\n",
       "        43976.41928862, 43537.63696554, 44249.68842539, 43995.60271756,\n",
       "        44131.40046139, 43935.07608371, 70605.48353252, 70115.31590556,\n",
       "        69448.48085854, 68975.46479874, 68723.86137914, 68066.22265414]),\n",
       " array([69149.70050233, 41245.79693452, 24601.40137806, 24016.63702629,\n",
       "        23431.87267451, 24016.63702629, 23431.87267451, 23227.15431242,\n",
       "        23022.43595034, 23227.15431242, 23022.43595034, 19479.37243744,\n",
       "        15936.30892454, 14639.10114563, 15936.30892454, 19479.37243744,\n",
       "        23022.43595034, 19479.37243744, 15936.30892454, 14639.10114563,\n",
       "        15936.30892454, 16075.95977273, 16215.61062092, 19619.02328563,\n",
       "        23022.43595034, 22264.93295438, 23022.43595034, 22264.93295438,\n",
       "        21507.42995842, 18861.52028967, 16957.14985324, 16586.38023708,\n",
       "        16957.14985324, 16586.38023708, 16957.14985324, 16586.38023708,\n",
       "        16215.61062092, 16075.95977273, 15936.30892454, 16075.95977273,\n",
       "        15936.30892454, 16075.95977273, 15936.30892454, 16075.95977273,\n",
       "        15936.30892454, 16075.95977273, 16215.61062092, 16586.38023708,\n",
       "        16957.14985324, 16586.38023708, 16957.14985324, 16586.38023708,\n",
       "        16215.61062092, 16075.95977273, 15936.30892454, 15091.5456722 ,\n",
       "        14246.78241986, 13853.40652667, 13460.03063348, 13400.9620001 ,\n",
       "        13341.89336671, 13164.60574516, 13341.89336671, 13400.9620001 ,\n",
       "        13460.03063348, 13853.40652667, 13460.03063348, 13400.9620001 ,\n",
       "        13341.89336671, 13164.60574516, 13341.89336671, 13400.9620001 ,\n",
       "        13341.89336671, 13164.60574516, 12987.3181236 , 13164.60574516,\n",
       "        13341.89336671, 13400.9620001 , 13460.03063348, 13853.40652667,\n",
       "        14246.78241986, 15091.5456722 , 14246.78241986, 15091.5456722 ,\n",
       "        14246.78241986, 13853.40652667, 14246.78241986, 13853.40652667,\n",
       "        13460.03063348, 13400.9620001 , 13460.03063348, 13853.40652667,\n",
       "        14246.78241986, 15091.5456722 , 15936.30892454, 16062.49256593,\n",
       "        15936.30892454, 16062.49256593, 16188.67620731, 16062.49256593]))"
      ]
     },
     "execution_count": 70,
     "metadata": {},
     "output_type": "execute_result"
    }
   ],
   "source": [
    "p = 2_549_536_629_329\n",
    "bits_48 = 2 ** 48 - 1\n",
    "scale = 0x07ffffffff\n",
    "from hashlib import sha256\n",
    "import numpy as np\n",
    "import random\n",
    "from matplotlib import pyplot as plt\n",
    "def get_ath_hash(a):\n",
    "    def my_hash(subseq):\n",
    "        return (((int(sha256(subseq).hexdigest(), 16) % bits_48) * a) % p) & scale\n",
    "    return my_hash \n",
    "\n",
    "random.seed(1) # reproducible randomness\n",
    "\n",
    "# Randomly generate different nucleic acids to compose a fake chromosome sequence \n",
    "nucleic_acid_choices = ['a','c','t','g','n']\n",
    "fake_seq_list= []\n",
    "for i in range(10000):\n",
    "    fake_seq_list.append(random.choice(nucleic_acid_choices))\n",
    "    # Joining each individual numbers into the entire sequence \n",
    "    fake_seq = \"\".join(fake_seq_list)\n",
    "    # Encode the fake sequence\n",
    "    fake_seq = fake_seq.encode('utf8')\n",
    "    fake_subseq=[fake_seq[i:i+15] for i in range(len(fake_seq)-14)]\n",
    "print(f\"There are {len(set(fake_subseq))} true distinct subsequences\") \n",
    "\n",
    "# There are 9986 true distinct sequences. \n",
    "\n",
    "def estimate_distinct_values(a,seq):\n",
    "    min_list = []\n",
    "    for i in range(1,a+1):\n",
    "        my_hash = get_ath_hash(i)   \n",
    "        min_h = my_hash(seq[0:15])\n",
    "        for j in range(1, len(seq)-14):\n",
    "            new_h = my_hash(seq[j:j+15])\n",
    "            if new_h < min_h:\n",
    "                min_h = new_h\n",
    "        min_h = min_h/scale\n",
    "        min_list.append(min_h)\n",
    "        min_arr = np.array(min_list)\n",
    "     \n",
    "    mean_hash_list = []\n",
    "    median_hash_list = []  \n",
    "    for i in range(len(min_arr)):\n",
    "        distinct_values = (1/min_arr[0:i+1])-1\n",
    "        mean_hash = np.mean(min_arr[0:i+1])\n",
    "        mean_hash_list.append(mean_hash)       \n",
    "        median_hash = np.median(min_arr[0:i+1])\n",
    "        median_hash_list.append(median_hash)   \n",
    "        \n",
    "        mean_list = []\n",
    "        median_list = [] \n",
    "        for j in range(len(distinct_values)): \n",
    "            mean_list.append(np.mean(distinct_values[0:j+1]))\n",
    "            median_list.append(np.median(distinct_values[0:j+1]))   \n",
    "        \n",
    "    mean_distinct_values = np.array(mean_list)\n",
    "    median_distinct_values = np.array(median_list)     \n",
    "        \n",
    "    mean_hash_arr = np.array(mean_hash_list)\n",
    "    mean_hash_estimates = (1/mean_hash_arr)-1\n",
    "    median_hash_arr = np.array(median_hash_list)\n",
    "    median_hash_estimates = (1/median_hash_arr)-1\n",
    "\n",
    "    return mean_hash_estimates, median_hash_estimates, mean_distinct_values, median_distinct_values\n",
    "\n",
    "estimates_test_results = estimate_distinct_values(100,fake_seq)\n",
    "estimates_test_results"
   ]
  },
  {
   "cell_type": "code",
   "execution_count": 71,
   "id": "300f6812",
   "metadata": {},
   "outputs": [
    {
     "data": {
      "image/png": "[encoded data removed]",
      "text/plain": [
       "<Figure size 432x288 with 1 Axes>"
      ]
     },
     "metadata": {
      "needs_background": "light"
     },
     "output_type": "display_data"
    }
   ],
   "source": [
    "x = np.arange(100)\n",
    "plt.plot(x, estimates_test_results[0])\n",
    "plt.plot(x, estimates_test_results[1])\n",
    "plt.plot(x, estimates_test_results[2])\n",
    "plt.plot(x, estimates_test_results[3])\n",
    "plt.ylabel('Estimated distinct values')\n",
    "plt.xlabel('Number of hash functions')\n",
    "plt.legend(['y = mean hash then estimate', 'median hash then estimate', 'estimate then mean', 'estimate then median'], loc='upper left')\n",
    "plt.show()"
   ]
  },
  {
   "cell_type": "code",
   "execution_count": 16,
   "id": "fb3b88b2",
   "metadata": {},
   "outputs": [
    {
     "data": {
      "text/plain": [
       "65453.663569801836"
      ]
     },
     "execution_count": 16,
     "metadata": {},
     "output_type": "execute_result"
    }
   ],
   "source": [
    "test2_estimate_10 = test2_results[9]\n",
    "test2_estimate_10"
   ]
  },
  {
   "cell_type": "code",
   "execution_count": 82,
   "id": "ef416f84",
   "metadata": {},
   "outputs": [],
   "source": [
    "from Bio import SeqIO\n",
    "\n",
    "human_genome = SeqIO.parse(\"GCA_000001405.28_GRCh38.p13_genomic.fna\", \"fasta\")\n",
    "for chromosome in human_genome:\n",
    "    if chromosome.name == \"CM000664.2\":\n",
    "        sequence = str(chromosome.seq).lower().encode('utf8')\n",
    "        \n",
    "        def estimate_value(a,seq):\n",
    "            min_list= []\n",
    "            for i in range(1,a+1):\n",
    "                my_hash = get_ath_hash(i)   \n",
    "                min_h = my_hash(seq[0:15])\n",
    "                for j in range(1, len(seq)-14):\n",
    "                    new_h = my_hash(seq[j:j+15])\n",
    "                    if new_h < min_h:\n",
    "                        min_h = new_h\n",
    "                min_h = min_h/scale\n",
    "                min_list.append(min_h)\n",
    "                min_arr = np.array(min_list)\n",
    "        \n",
    "            mean_hash_list=[]\n",
    "            mean_hash=0\n",
    "            total=0\n",
    "            for count,hash in enumerate(min_arr,start=1):\n",
    "                total+=hash\n",
    "                mean_hash_list.append(total/count)\n",
    "            mean_hash_list=np.array(mean_hash_list)\n",
    "            mean_hash_estimates=(1/mean_hash_list)-1\n",
    "            \n",
    "            return mean_hash_estimates\n",
    "        \n",
    "        estimate_results = estimate_value(100,sequence)"
   ]
  },
  {
   "cell_type": "code",
   "execution_count": 84,
   "id": "97784b36",
   "metadata": {},
   "outputs": [
    {
     "data": {
      "text/plain": [
       "array([6.60764189e+07, 9.85932224e+07, 1.42178227e+08, 1.27376230e+08,\n",
       "       1.50305066e+08, 1.41107754e+08, 1.16304723e+08, 1.28990101e+08,\n",
       "       1.43431189e+08, 1.33539596e+08, 1.08421434e+08, 1.04915231e+08,\n",
       "       1.05597304e+08, 1.12496804e+08, 1.18373007e+08, 1.22713350e+08,\n",
       "       1.08370231e+08, 1.12164542e+08, 1.16640169e+08, 1.22146243e+08,\n",
       "       1.26145892e+08, 1.17761994e+08, 1.18909716e+08, 1.21681233e+08,\n",
       "       1.23649554e+08, 1.27095346e+08, 1.30351683e+08, 1.32882965e+08,\n",
       "       1.33391219e+08, 1.36204036e+08, 1.25889597e+08, 1.26192083e+08,\n",
       "       1.21373513e+08, 1.22033960e+08, 1.22214516e+08, 1.22749883e+08,\n",
       "       1.25810026e+08, 1.22139387e+08, 1.24364713e+08, 1.26870629e+08,\n",
       "       1.29266770e+08, 1.30929868e+08, 1.32070147e+08, 1.33991711e+08,\n",
       "       1.31814852e+08, 1.31416642e+08, 1.32033987e+08, 1.34425579e+08,\n",
       "       1.35885970e+08, 1.34955766e+08, 1.36475595e+08, 1.35943573e+08,\n",
       "       1.38126981e+08, 1.40371150e+08, 1.42938174e+08, 1.42889153e+08,\n",
       "       1.45095946e+08, 1.40858412e+08, 1.43145357e+08, 1.44682735e+08,\n",
       "       1.43912663e+08, 1.43088646e+08, 1.44426441e+08, 1.38547331e+08,\n",
       "       1.34735942e+08, 1.32083564e+08, 1.33975584e+08, 1.35290225e+08,\n",
       "       1.36875581e+08, 1.36595960e+08, 1.34669688e+08, 1.33666584e+08,\n",
       "       1.29666092e+08, 1.31062919e+08, 1.29763853e+08, 1.28561446e+08,\n",
       "       1.28519374e+08, 1.29122161e+08, 1.29264218e+08, 1.30181343e+08,\n",
       "       1.30321164e+08, 1.27292786e+08, 1.26895891e+08, 1.27454979e+08,\n",
       "       1.28642811e+08, 1.29200187e+08, 1.30105206e+08, 1.29166430e+08,\n",
       "       1.30411390e+08, 1.31657716e+08, 1.33097913e+08, 1.33797338e+08,\n",
       "       1.34229003e+08, 1.33386280e+08, 1.32110050e+08, 1.33091303e+08,\n",
       "       1.32510122e+08, 1.33193083e+08, 1.32875550e+08, 1.33799603e+08])"
      ]
     },
     "execution_count": 84,
     "metadata": {},
     "output_type": "execute_result"
    }
   ],
   "source": [
    "estimate_results"
   ]
  },
  {
   "cell_type": "code",
   "execution_count": 83,
   "id": "c3b895a2",
   "metadata": {},
   "outputs": [
    {
     "data": {
      "image/png": "[encoded data removed]",
      "text/plain": [
       "<Figure size 432x288 with 1 Axes>"
      ]
     },
     "metadata": {
      "needs_background": "light"
     },
     "output_type": "display_data"
    }
   ],
   "source": [
    "x = np.arange(100)\n",
    "plt.plot(x, estimate_results)\n",
    "plt.ylabel('Estimated distinct values')\n",
    "plt.xlabel('Number of hash functions')\n",
    "plt.legend(['y = mean hash then estimate'], loc='upper left')\n",
    "plt.show()"
   ]
  },
  {
   "cell_type": "code",
   "execution_count": 85,
   "id": "810249f2",
   "metadata": {},
   "outputs": [
    {
     "data": {
      "text/plain": [
       "133799603.23286605"
      ]
     },
     "execution_count": 85,
     "metadata": {},
     "output_type": "execute_result"
    }
   ],
   "source": [
    "estimate_results_100 = estimate_results[-1]\n",
    "estimate_results_100"
   ]
  },
  {
   "cell_type": "code",
   "execution_count": 87,
   "id": "f8445e7b",
   "metadata": {},
   "outputs": [
    {
     "data": {
      "text/plain": [
       "66076418.93653846"
      ]
     },
     "execution_count": 87,
     "metadata": {},
     "output_type": "execute_result"
    }
   ],
   "source": [
    "estimate_results_1 = estimate_results[0]\n",
    "estimate_results_1"
   ]
  },
  {
   "cell_type": "code",
   "execution_count": 89,
   "id": "fa161cfd",
   "metadata": {},
   "outputs": [
    {
     "data": {
      "text/plain": [
       "133539596.22891568"
      ]
     },
     "execution_count": 89,
     "metadata": {},
     "output_type": "execute_result"
    }
   ],
   "source": [
    "estimate_results_10 = estimate_results[9]\n",
    "estimate_results_10"
   ]
  }
 ],
 "metadata": {
  "kernelspec": {
   "display_name": "Python 3 (ipykernel)",
   "language": "python",
   "name": "python3"
  },
  "language_info": {
   "codemirror_mode": {
    "name": "ipython",
    "version": 3
   },
   "file_extension": ".py",
   "mimetype": "text/x-python",
   "name": "python",
   "nbconvert_exporter": "python",
   "pygments_lexer": "ipython3",
   "version": "3.8.3"
  }
 },
 "nbformat": 4,
 "nbformat_minor": 5
}
